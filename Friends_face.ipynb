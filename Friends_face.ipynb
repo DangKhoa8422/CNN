{
  "nbformat": 4,
  "nbformat_minor": 0,
  "metadata": {
    "colab": {
      "provenance": [],
      "authorship_tag": "ABX9TyOWTRoPVyb+cGd5KpzS5f2h",
      "include_colab_link": true
    },
    "kernelspec": {
      "name": "python3",
      "display_name": "Python 3"
    },
    "language_info": {
      "name": "python"
    }
  },
  "cells": [
    {
      "cell_type": "markdown",
      "metadata": {
        "id": "view-in-github",
        "colab_type": "text"
      },
      "source": [
        "<a href=\"https://colab.research.google.com/github/DangKhoa8422/CNN/blob/main/Friends_face.ipynb\" target=\"_parent\"><img src=\"https://colab.research.google.com/assets/colab-badge.svg\" alt=\"Open In Colab\"/></a>"
      ]
    },
    {
      "cell_type": "markdown",
      "source": [
        "RECOGNITION OF FRIENDS FROM FACE IMAGES"
      ],
      "metadata": {
        "id": "28hWWBAhoqW4"
      }
    },
    {
      "cell_type": "code",
      "execution_count": null,
      "metadata": {
        "colab": {
          "base_uri": "https://localhost:8080/"
        },
        "id": "bRjTddskaQd9",
        "outputId": "35896dd2-8e45-4d50-f43d-834547b5c886"
      },
      "outputs": [
        {
          "output_type": "stream",
          "name": "stdout",
          "text": [
            "Mounted at /content/drive\n",
            "(326, 30, 40, 3) (326,)\n"
          ]
        }
      ],
      "source": [
        "from numpy import asarray\n",
        "from os import listdir\n",
        "from numpy import asarray,save\n",
        "from keras.utils import img_to_array,load_img\n",
        "from google.colab import drive\n",
        "drive.mount('/content/drive')\n",
        "from keras.models import load_model\n",
        "\n",
        "folder = '/content/drive/MyDrive/Mặt/'\n",
        "photos, labels=list (),list()\n",
        "for file in listdir(folder):\n",
        "  output=0.0\n",
        "  if file.startswith ('Thinh'):\n",
        "    output=1.0\n",
        "  if file.startswith ('Quân'):\n",
        "    output=2.0\n",
        "  if file.startswith ('Huân'):\n",
        "    output = 3.0\n",
        "  if file.startswith ('Huynh'):\n",
        "    output = 4.0\n",
        "  if file.startswith ('Dũng'):\n",
        "    output = 5.0\n",
        "  img =load_img(folder+ file,target_size=(30,40))\n",
        "  photo = img_to_array(img)\n",
        "  photos.append(photo)\n",
        "  labels.append(output)\n",
        "photos =asarray(photos)\n",
        "labels =asarray(labels)\n",
        "print(photos.shape,labels.shape)\n",
        "save('friend_photos.npy',photos)\n",
        "save('friend_labels.npy',labels)"
      ]
    },
    {
      "cell_type": "code",
      "source": [
        "import numpy as np\n",
        "x_train = np.load('/content/friend_photos.npy')\n",
        "y_train = np.load('/content/friend_labels.npy')\n",
        "print(x_train.shape)\n",
        "print(y_train.shape)\n",
        "x=x_train\n",
        "y=y_train\n",
        "from keras.utils import to_categorical\n",
        "x_train = x_train.astype('float32')/255\n",
        "y_train = to_categorical(y_train,100)"
      ],
      "metadata": {
        "colab": {
          "base_uri": "https://localhost:8080/"
        },
        "id": "bG1_E3PNclSi",
        "outputId": "8853f1cf-1b65-4f8a-8847-2faeca631eac"
      },
      "execution_count": null,
      "outputs": [
        {
          "output_type": "stream",
          "name": "stdout",
          "text": [
            "(326, 30, 40, 3)\n",
            "(326,)\n"
          ]
        }
      ]
    },
    {
      "cell_type": "code",
      "source": [
        "from keras.backend import flatten\n",
        "from keras.models import Sequential\n",
        "from keras.layers import Dense,Dropout,Flatten,Conv2D,MaxPooling2D,Normalization,LeakyReLU\n",
        "from keras.optimizers import Adam\n",
        "#32 lần\n",
        "model = Sequential()\n",
        "model.add(Conv2D(32,kernel_size = (3,3),activation = 'relu',input_shape=(30,40,3),padding='Same'))\n",
        "model.add(MaxPooling2D((2,2),padding='same'))\n",
        "model.add(Dropout(0.25))\n",
        "\n",
        "#64 lần\n",
        "model.add(Conv2D(64,(3,3),activation ='relu',padding ='same'))\n",
        "model.add(MaxPooling2D((2,2),padding='same'))\n",
        "model.add(Dropout(0.25))\n",
        "\n",
        "#128 lần\n",
        "model.add(Conv2D(128,(3,3),activation ='relu',padding ='same'))\n",
        "model.add(MaxPooling2D((2,2),padding='same'))\n",
        "model.add(Dropout(0.25))\n",
        "\n",
        "#256 lần\n",
        "model.add(Conv2D(256,(3,3),activation ='relu',padding ='same'))\n",
        "model.add(MaxPooling2D((2,2),padding='same'))\n",
        "model.add(Dropout(0.25))\n",
        "\n",
        "model.add(Flatten())\n",
        "model.add(Dense(500,activation='relu'))\n",
        "model.add(LeakyReLU(alpha=0.1))\n",
        "model.add(Dense(100,activation='softmax'))\n",
        "\n",
        "from keras.losses import categorical_crossentropy\n",
        "model.compile(loss='categorical_crossentropy',optimizer=Adam(),metrics=['accuracy'])\n",
        "model.summary()\n",
        "train = model.fit(x_train,y_train,epochs=100,batch_size=64,verbose=1)"
      ],
      "metadata": {
        "colab": {
          "base_uri": "https://localhost:8080/"
        },
        "id": "Iyz-Y07dcr95",
        "outputId": "0d76f85c-ea91-457a-c855-b0a726caf3f1"
      },
      "execution_count": null,
      "outputs": [
        {
          "output_type": "stream",
          "name": "stdout",
          "text": [
            "Model: \"sequential\"\n",
            "_________________________________________________________________\n",
            " Layer (type)                Output Shape              Param #   \n",
            "=================================================================\n",
            " conv2d (Conv2D)             (None, 30, 40, 32)        896       \n",
            "                                                                 \n",
            " max_pooling2d (MaxPooling2D  (None, 15, 20, 32)       0         \n",
            " )                                                               \n",
            "                                                                 \n",
            " dropout (Dropout)           (None, 15, 20, 32)        0         \n",
            "                                                                 \n",
            " conv2d_1 (Conv2D)           (None, 15, 20, 64)        18496     \n",
            "                                                                 \n",
            " max_pooling2d_1 (MaxPooling  (None, 8, 10, 64)        0         \n",
            " 2D)                                                             \n",
            "                                                                 \n",
            " dropout_1 (Dropout)         (None, 8, 10, 64)         0         \n",
            "                                                                 \n",
            " conv2d_2 (Conv2D)           (None, 8, 10, 128)        73856     \n",
            "                                                                 \n",
            " max_pooling2d_2 (MaxPooling  (None, 4, 5, 128)        0         \n",
            " 2D)                                                             \n",
            "                                                                 \n",
            " dropout_2 (Dropout)         (None, 4, 5, 128)         0         \n",
            "                                                                 \n",
            " conv2d_3 (Conv2D)           (None, 4, 5, 256)         295168    \n",
            "                                                                 \n",
            " max_pooling2d_3 (MaxPooling  (None, 2, 3, 256)        0         \n",
            " 2D)                                                             \n",
            "                                                                 \n",
            " dropout_3 (Dropout)         (None, 2, 3, 256)         0         \n",
            "                                                                 \n",
            " flatten (Flatten)           (None, 1536)              0         \n",
            "                                                                 \n",
            " dense (Dense)               (None, 500)               768500    \n",
            "                                                                 \n",
            " leaky_re_lu (LeakyReLU)     (None, 500)               0         \n",
            "                                                                 \n",
            " dense_1 (Dense)             (None, 100)               50100     \n",
            "                                                                 \n",
            "=================================================================\n",
            "Total params: 1,207,016\n",
            "Trainable params: 1,207,016\n",
            "Non-trainable params: 0\n",
            "_________________________________________________________________\n",
            "Epoch 1/100\n",
            "6/6 [==============================] - 2s 212ms/step - loss: 2.6321 - accuracy: 0.5245\n",
            "Epoch 2/100\n",
            "6/6 [==============================] - 1s 212ms/step - loss: 0.9098 - accuracy: 0.6687\n",
            "Epoch 3/100\n",
            "6/6 [==============================] - 1s 217ms/step - loss: 0.8823 - accuracy: 0.6288\n",
            "Epoch 4/100\n",
            "6/6 [==============================] - 1s 206ms/step - loss: 0.7752 - accuracy: 0.6687\n",
            "Epoch 5/100\n",
            "6/6 [==============================] - 1s 230ms/step - loss: 0.7965 - accuracy: 0.7055\n",
            "Epoch 6/100\n",
            "6/6 [==============================] - 1s 232ms/step - loss: 0.7295 - accuracy: 0.6963\n",
            "Epoch 7/100\n",
            "6/6 [==============================] - 4s 662ms/step - loss: 0.4914 - accuracy: 0.7669\n",
            "Epoch 8/100\n",
            "6/6 [==============================] - 3s 374ms/step - loss: 0.3062 - accuracy: 0.9018\n",
            "Epoch 9/100\n",
            "6/6 [==============================] - 2s 369ms/step - loss: 0.1366 - accuracy: 0.9509\n",
            "Epoch 10/100\n",
            "6/6 [==============================] - 1s 218ms/step - loss: 0.1048 - accuracy: 0.9571\n",
            "Epoch 11/100\n",
            "6/6 [==============================] - 1s 211ms/step - loss: 0.0911 - accuracy: 0.9693\n",
            "Epoch 12/100\n",
            "6/6 [==============================] - 2s 245ms/step - loss: 0.0703 - accuracy: 0.9816\n",
            "Epoch 13/100\n",
            "6/6 [==============================] - 1s 223ms/step - loss: 0.1908 - accuracy: 0.9356\n",
            "Epoch 14/100\n",
            "6/6 [==============================] - 2s 359ms/step - loss: 0.0925 - accuracy: 0.9571\n",
            "Epoch 15/100\n",
            "6/6 [==============================] - 2s 384ms/step - loss: 0.1735 - accuracy: 0.9448\n",
            "Epoch 16/100\n",
            "6/6 [==============================] - 2s 216ms/step - loss: 0.1321 - accuracy: 0.9417\n",
            "Epoch 17/100\n",
            "6/6 [==============================] - 1s 211ms/step - loss: 0.0697 - accuracy: 0.9755\n",
            "Epoch 18/100\n",
            "6/6 [==============================] - 1s 214ms/step - loss: 0.0331 - accuracy: 0.9908\n",
            "Epoch 19/100\n",
            "6/6 [==============================] - 1s 211ms/step - loss: 0.0268 - accuracy: 0.9847\n",
            "Epoch 20/100\n",
            "6/6 [==============================] - 1s 214ms/step - loss: 0.0210 - accuracy: 0.9908\n",
            "Epoch 21/100\n",
            "6/6 [==============================] - 1s 209ms/step - loss: 0.0164 - accuracy: 0.9939\n",
            "Epoch 22/100\n",
            "6/6 [==============================] - 1s 213ms/step - loss: 0.0086 - accuracy: 1.0000\n",
            "Epoch 23/100\n",
            "6/6 [==============================] - 1s 236ms/step - loss: 0.0266 - accuracy: 0.9877\n",
            "Epoch 24/100\n",
            "6/6 [==============================] - 2s 370ms/step - loss: 0.0086 - accuracy: 0.9939\n",
            "Epoch 25/100\n",
            "6/6 [==============================] - 2s 330ms/step - loss: 0.0037 - accuracy: 1.0000\n",
            "Epoch 26/100\n",
            "6/6 [==============================] - 1s 208ms/step - loss: 0.0034 - accuracy: 1.0000\n",
            "Epoch 27/100\n",
            "6/6 [==============================] - 1s 214ms/step - loss: 0.0029 - accuracy: 1.0000\n",
            "Epoch 28/100\n",
            "6/6 [==============================] - 1s 210ms/step - loss: 0.0084 - accuracy: 0.9969\n",
            "Epoch 29/100\n",
            "6/6 [==============================] - 1s 217ms/step - loss: 0.0013 - accuracy: 1.0000\n",
            "Epoch 30/100\n",
            "6/6 [==============================] - 1s 221ms/step - loss: 7.6642e-04 - accuracy: 1.0000\n",
            "Epoch 31/100\n",
            "6/6 [==============================] - 1s 215ms/step - loss: 0.0022 - accuracy: 1.0000\n",
            "Epoch 32/100\n",
            "6/6 [==============================] - 1s 208ms/step - loss: 0.0062 - accuracy: 0.9969\n",
            "Epoch 33/100\n",
            "6/6 [==============================] - 2s 356ms/step - loss: 0.0033 - accuracy: 1.0000\n",
            "Epoch 34/100\n",
            "6/6 [==============================] - 2s 376ms/step - loss: 0.0016 - accuracy: 1.0000\n",
            "Epoch 35/100\n",
            "6/6 [==============================] - 2s 234ms/step - loss: 0.0063 - accuracy: 0.9969\n",
            "Epoch 36/100\n",
            "6/6 [==============================] - 1s 209ms/step - loss: 0.0021 - accuracy: 1.0000\n",
            "Epoch 37/100\n",
            "6/6 [==============================] - 1s 212ms/step - loss: 0.0032 - accuracy: 0.9969\n",
            "Epoch 38/100\n",
            "6/6 [==============================] - 1s 216ms/step - loss: 0.0034 - accuracy: 0.9969\n",
            "Epoch 39/100\n",
            "6/6 [==============================] - 1s 207ms/step - loss: 8.5693e-04 - accuracy: 1.0000\n",
            "Epoch 40/100\n",
            "6/6 [==============================] - 1s 213ms/step - loss: 0.0014 - accuracy: 1.0000\n",
            "Epoch 41/100\n",
            "6/6 [==============================] - 1s 207ms/step - loss: 0.0014 - accuracy: 1.0000\n",
            "Epoch 42/100\n",
            "6/6 [==============================] - 2s 253ms/step - loss: 0.0016 - accuracy: 1.0000\n",
            "Epoch 43/100\n",
            "6/6 [==============================] - 2s 385ms/step - loss: 4.1633e-04 - accuracy: 1.0000\n",
            "Epoch 44/100\n",
            "6/6 [==============================] - 2s 322ms/step - loss: 0.0010 - accuracy: 1.0000\n",
            "Epoch 45/100\n",
            "6/6 [==============================] - 1s 209ms/step - loss: 1.8416e-04 - accuracy: 1.0000\n",
            "Epoch 46/100\n",
            "6/6 [==============================] - 1s 210ms/step - loss: 4.2636e-04 - accuracy: 1.0000\n",
            "Epoch 47/100\n",
            "6/6 [==============================] - 1s 213ms/step - loss: 0.0014 - accuracy: 1.0000\n",
            "Epoch 48/100\n",
            "6/6 [==============================] - 1s 221ms/step - loss: 6.3055e-04 - accuracy: 1.0000\n",
            "Epoch 49/100\n",
            "6/6 [==============================] - 1s 213ms/step - loss: 0.0017 - accuracy: 1.0000\n",
            "Epoch 50/100\n",
            "6/6 [==============================] - 1s 223ms/step - loss: 0.0013 - accuracy: 1.0000\n",
            "Epoch 51/100\n",
            "6/6 [==============================] - 1s 217ms/step - loss: 0.0063 - accuracy: 0.9969\n",
            "Epoch 52/100\n",
            "6/6 [==============================] - 2s 392ms/step - loss: 8.8610e-04 - accuracy: 1.0000\n",
            "Epoch 53/100\n",
            "6/6 [==============================] - 2s 381ms/step - loss: 0.0032 - accuracy: 1.0000\n",
            "Epoch 54/100\n",
            "6/6 [==============================] - 1s 216ms/step - loss: 3.8256e-04 - accuracy: 1.0000\n",
            "Epoch 55/100\n",
            "6/6 [==============================] - 2s 238ms/step - loss: 8.6481e-04 - accuracy: 1.0000\n",
            "Epoch 56/100\n",
            "6/6 [==============================] - 1s 218ms/step - loss: 0.0022 - accuracy: 1.0000\n",
            "Epoch 57/100\n",
            "6/6 [==============================] - 1s 207ms/step - loss: 5.8403e-04 - accuracy: 1.0000\n",
            "Epoch 58/100\n",
            "6/6 [==============================] - 1s 204ms/step - loss: 5.7054e-04 - accuracy: 1.0000\n",
            "Epoch 59/100\n",
            "6/6 [==============================] - 1s 207ms/step - loss: 0.0016 - accuracy: 1.0000\n",
            "Epoch 60/100\n",
            "6/6 [==============================] - 1s 219ms/step - loss: 2.7218e-04 - accuracy: 1.0000\n",
            "Epoch 61/100\n",
            "6/6 [==============================] - 2s 349ms/step - loss: 0.0025 - accuracy: 0.9969\n",
            "Epoch 62/100\n",
            "6/6 [==============================] - 2s 385ms/step - loss: 2.7467e-04 - accuracy: 1.0000\n",
            "Epoch 63/100\n",
            "6/6 [==============================] - 2s 215ms/step - loss: 3.3659e-04 - accuracy: 1.0000\n",
            "Epoch 64/100\n",
            "6/6 [==============================] - 1s 216ms/step - loss: 8.0165e-04 - accuracy: 1.0000\n",
            "Epoch 65/100\n",
            "6/6 [==============================] - 1s 216ms/step - loss: 2.6397e-04 - accuracy: 1.0000\n",
            "Epoch 66/100\n",
            "6/6 [==============================] - 1s 212ms/step - loss: 2.8564e-04 - accuracy: 1.0000\n",
            "Epoch 67/100\n",
            "6/6 [==============================] - 1s 215ms/step - loss: 3.0093e-04 - accuracy: 1.0000\n",
            "Epoch 68/100\n",
            "6/6 [==============================] - 1s 208ms/step - loss: 3.0687e-04 - accuracy: 1.0000\n",
            "Epoch 69/100\n",
            "6/6 [==============================] - 1s 220ms/step - loss: 8.9968e-05 - accuracy: 1.0000\n",
            "Epoch 70/100\n",
            "6/6 [==============================] - 2s 251ms/step - loss: 1.5732e-04 - accuracy: 1.0000\n",
            "Epoch 71/100\n",
            "6/6 [==============================] - 2s 395ms/step - loss: 6.9975e-05 - accuracy: 1.0000\n",
            "Epoch 72/100\n",
            "6/6 [==============================] - 2s 311ms/step - loss: 1.2403e-04 - accuracy: 1.0000\n",
            "Epoch 73/100\n",
            "6/6 [==============================] - 1s 221ms/step - loss: 2.5889e-04 - accuracy: 1.0000\n",
            "Epoch 74/100\n",
            "6/6 [==============================] - 1s 218ms/step - loss: 1.7531e-04 - accuracy: 1.0000\n",
            "Epoch 75/100\n",
            "6/6 [==============================] - 1s 216ms/step - loss: 8.4406e-05 - accuracy: 1.0000\n",
            "Epoch 76/100\n",
            "6/6 [==============================] - 1s 215ms/step - loss: 1.2853e-04 - accuracy: 1.0000\n",
            "Epoch 77/100\n",
            "6/6 [==============================] - 1s 208ms/step - loss: 4.9497e-05 - accuracy: 1.0000\n",
            "Epoch 78/100\n",
            "6/6 [==============================] - 1s 218ms/step - loss: 1.2167e-04 - accuracy: 1.0000\n",
            "Epoch 79/100\n",
            "6/6 [==============================] - 1s 216ms/step - loss: 1.1390e-04 - accuracy: 1.0000\n",
            "Epoch 80/100\n",
            "6/6 [==============================] - 2s 372ms/step - loss: 6.5875e-05 - accuracy: 1.0000\n",
            "Epoch 81/100\n",
            "6/6 [==============================] - 2s 389ms/step - loss: 7.8391e-05 - accuracy: 1.0000\n",
            "Epoch 82/100\n",
            "6/6 [==============================] - 1s 211ms/step - loss: 1.0881e-04 - accuracy: 1.0000\n",
            "Epoch 83/100\n",
            "6/6 [==============================] - 1s 212ms/step - loss: 5.7735e-05 - accuracy: 1.0000\n",
            "Epoch 84/100\n",
            "6/6 [==============================] - 1s 212ms/step - loss: 6.4490e-05 - accuracy: 1.0000\n",
            "Epoch 85/100\n",
            "6/6 [==============================] - 1s 212ms/step - loss: 8.6355e-05 - accuracy: 1.0000\n",
            "Epoch 86/100\n",
            "6/6 [==============================] - 1s 206ms/step - loss: 1.5565e-04 - accuracy: 1.0000\n",
            "Epoch 87/100\n",
            "6/6 [==============================] - 1s 219ms/step - loss: 2.5040e-05 - accuracy: 1.0000\n",
            "Epoch 88/100\n",
            "6/6 [==============================] - 1s 209ms/step - loss: 3.8583e-05 - accuracy: 1.0000\n",
            "Epoch 89/100\n",
            "6/6 [==============================] - 2s 301ms/step - loss: 4.9242e-05 - accuracy: 1.0000\n",
            "Epoch 90/100\n",
            "6/6 [==============================] - 2s 374ms/step - loss: 6.5633e-05 - accuracy: 1.0000\n",
            "Epoch 91/100\n",
            "6/6 [==============================] - 2s 273ms/step - loss: 1.8969e-04 - accuracy: 1.0000\n",
            "Epoch 92/100\n",
            "6/6 [==============================] - 1s 220ms/step - loss: 1.1833e-04 - accuracy: 1.0000\n",
            "Epoch 93/100\n",
            "6/6 [==============================] - 1s 217ms/step - loss: 0.0026 - accuracy: 1.0000\n",
            "Epoch 94/100\n",
            "6/6 [==============================] - 1s 220ms/step - loss: 5.9444e-05 - accuracy: 1.0000\n",
            "Epoch 95/100\n",
            "6/6 [==============================] - 1s 229ms/step - loss: 2.3048e-04 - accuracy: 1.0000\n",
            "Epoch 96/100\n",
            "6/6 [==============================] - 1s 221ms/step - loss: 2.6703e-04 - accuracy: 1.0000\n",
            "Epoch 97/100\n",
            "6/6 [==============================] - 1s 221ms/step - loss: 1.4970e-04 - accuracy: 1.0000\n",
            "Epoch 98/100\n",
            "6/6 [==============================] - 1s 245ms/step - loss: 1.7003e-04 - accuracy: 1.0000\n",
            "Epoch 99/100\n",
            "6/6 [==============================] - 2s 385ms/step - loss: 1.6384e-04 - accuracy: 1.0000\n",
            "Epoch 100/100\n",
            "6/6 [==============================] - 2s 336ms/step - loss: 5.8069e-05 - accuracy: 1.0000\n"
          ]
        }
      ]
    },
    {
      "cell_type": "code",
      "source": [
        "model.save(\"/content/drive/MyDrive/face.h5\")"
      ],
      "metadata": {
        "id": "hLoG0F6zcuKN"
      },
      "execution_count": null,
      "outputs": []
    },
    {
      "cell_type": "code",
      "source": [
        "model_1=load_model('/content/drive/MyDrive/face.h5')"
      ],
      "metadata": {
        "id": "AooExYBzdsNd"
      },
      "execution_count": null,
      "outputs": []
    },
    {
      "cell_type": "code",
      "source": [
        "import matplotlib.pyplot as plt\n",
        "from keras.utils import load_img\n",
        "from keras.utils.image_utils import img_to_array\n",
        "import numpy as np\n",
        "vat = {1: 'Thịnh',2:'Quân', 3:'Huân', 4:'Huynh',5:'Dũng'}\n",
        "img = load_img(\"/content/drive/MyDrive/Check AI/huan.jpg\",target_size=(30,40))\n",
        "plt.imshow(img)\n",
        "img = img_to_array(img)\n",
        "img=img.reshape(1,30,40,3)\n",
        "img = img.astype('float32')\n",
        "img =img/255\n",
        "result  = np.argmax(model.predict(img),axis=1)\n",
        "vat[result[0]]"
      ],
      "metadata": {
        "colab": {
          "base_uri": "https://localhost:8080/",
          "height": 466
        },
        "id": "PjTPAicIduxb",
        "outputId": "b4247151-6411-4e96-a21f-973d521390c7"
      },
      "execution_count": null,
      "outputs": [
        {
          "output_type": "stream",
          "name": "stdout",
          "text": [
            "1/1 [==============================] - 0s 124ms/step\n"
          ]
        },
        {
          "output_type": "execute_result",
          "data": {
            "text/plain": [
              "'Thịnh'"
            ],
            "application/vnd.google.colaboratory.intrinsic+json": {
              "type": "string"
            }
          },
          "metadata": {},
          "execution_count": 7
        },
        {
          "output_type": "display_data",
          "data": {
            "text/plain": [
              "<Figure size 640x480 with 1 Axes>"
            ],
            "image/png": "[encoded data removed]"
          },
          "metadata": {}
        }
      ]
    },
    {
      "cell_type": "code",
      "source": [
        "img = load_img(\"/content/drive/MyDrive/Check AI/huynh.jpg\",target_size=(30,40))\n",
        "plt.imshow(img)\n",
        "img = img_to_array(img)\n",
        "img=img.reshape(1,30,40,3)\n",
        "img = img.astype('float32')\n",
        "img =img/255\n",
        "result  = np.argmax(model.predict(img),axis=1)\n",
        "vat[result[0]]"
      ],
      "metadata": {
        "id": "IIITv2iSfLlu",
        "colab": {
          "base_uri": "https://localhost:8080/",
          "height": 466
        },
        "outputId": "6588df2a-cd12-4f4e-fe48-9584e6e3372a"
      },
      "execution_count": null,
      "outputs": [
        {
          "output_type": "stream",
          "name": "stdout",
          "text": [
            "1/1 [==============================] - 0s 26ms/step\n"
          ]
        },
        {
          "output_type": "execute_result",
          "data": {
            "text/plain": [
              "'Huynh'"
            ],
            "application/vnd.google.colaboratory.intrinsic+json": {
              "type": "string"
            }
          },
          "metadata": {},
          "execution_count": 8
        },
        {
          "output_type": "display_data",
          "data": {
            "text/plain": [
              "<Figure size 640x480 with 1 Axes>"
            ],
            "image/png": "[encoded data removed]"
          },
          "metadata": {}
        }
      ]
    },
    {
      "cell_type": "code",
      "source": [
        "img = load_img(\"/content/drive/MyDrive/Check AI/thinh.jpg\",target_size=(30,40))\n",
        "plt.imshow(img)\n",
        "img = img_to_array(img)\n",
        "img=img.reshape(1,30,40,3)\n",
        "img = img.astype('float32')\n",
        "img =img/255\n",
        "result  = np.argmax(model.predict(img),axis=1)\n",
        "vat[result[0]]"
      ],
      "metadata": {
        "id": "EIGhMI9tlVss",
        "colab": {
          "base_uri": "https://localhost:8080/",
          "height": 466
        },
        "outputId": "e2527fb2-a69c-42b0-bcb5-09c12ed6f891"
      },
      "execution_count": null,
      "outputs": [
        {
          "output_type": "stream",
          "name": "stdout",
          "text": [
            "1/1 [==============================] - 0s 67ms/step\n"
          ]
        },
        {
          "output_type": "execute_result",
          "data": {
            "text/plain": [
              "'Thịnh'"
            ],
            "application/vnd.google.colaboratory.intrinsic+json": {
              "type": "string"
            }
          },
          "metadata": {},
          "execution_count": 9
        },
        {
          "output_type": "display_data",
          "data": {
            "text/plain": [
              "<Figure size 640x480 with 1 Axes>"
            ],
            "image/png": "[encoded data removed]"
          },
          "metadata": {}
        }
      ]
    },
    {
      "cell_type": "code",
      "source": [],
      "metadata": {
        "id": "SGPvsI_TrF1O"
      },
      "execution_count": null,
      "outputs": []
    }
  ]
}