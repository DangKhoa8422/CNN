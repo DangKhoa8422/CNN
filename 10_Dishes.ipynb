{
  "nbformat": 4,
  "nbformat_minor": 0,
  "metadata": {
    "colab": {
      "provenance": [],
      "authorship_tag": "ABX9TyNc+GSdMMrrtKUSJC9YlyUD",
      "include_colab_link": true
    },
    "kernelspec": {
      "name": "python3",
      "display_name": "Python 3"
    },
    "language_info": {
      "name": "python"
    }
  },
  "cells": [
    {
      "cell_type": "markdown",
      "metadata": {
        "id": "view-in-github",
        "colab_type": "text"
      },
      "source": [
        "<a href=\"https://colab.research.google.com/github/DangKhoa8422/CNN/blob/main/10_Dishes.ipynb\" target=\"_parent\"><img src=\"https://colab.research.google.com/assets/colab-badge.svg\" alt=\"Open In Colab\"/></a>"
      ]
    },
    {
      "cell_type": "markdown",
      "source": [
        "10 VN DISHES"
      ],
      "metadata": {
        "id": "DBeKMhp_oT5m"
      }
    },
    {
      "cell_type": "code",
      "execution_count": null,
      "metadata": {
        "colab": {
          "base_uri": "https://localhost:8080/"
        },
        "id": "0z4l-c0iu9ej",
        "outputId": "188d456b-741f-4a6e-b116-07d242c8725f"
      },
      "outputs": [
        {
          "output_type": "stream",
          "name": "stdout",
          "text": [
            "Drive already mounted at /content/drive; to attempt to forcibly remount, call drive.mount(\"/content/drive\", force_remount=True).\n",
            "(320, 30, 40, 3) (320,)\n"
          ]
        }
      ],
      "source": [
        "from numpy import asarray\n",
        "from os import listdir\n",
        "from numpy import asarray,save\n",
        "from keras.utils import img_to_array,load_img\n",
        "from google.colab import drive\n",
        "drive.mount('/content/drive')\n",
        "from keras.models import load_model\n",
        "\n",
        "folder = '/content/drive/MyDrive/Ảnh đồ ăn/'\n",
        "photos, labels=list (),list()\n",
        "for file in listdir(folder):\n",
        "  output=0.0\n",
        "  if file.startswith ('Pho'):\n",
        "    output=1.0\n",
        "  if file.startswith ('Banhmi'):\n",
        "    output=2.0\n",
        "  if file.startswith ('Bunbo'):\n",
        "    output = 3.0\n",
        "  if file.startswith ('banhxeo'):\n",
        "    output = 4.0\n",
        "  if file.startswith ('goicuon'):\n",
        "    output = 5.0\n",
        "  if file.startswith ('phalau'):\n",
        "    output = 6.0\n",
        "  if file.startswith ('bundau'):\n",
        "    output = 7.0\n",
        "  if file.startswith ('comtam'):\n",
        "    output = 8.0\n",
        "  if file.startswith ('thitkho'):\n",
        "    output = 9.0\n",
        "  if file.startswith ('bunrieu'):\n",
        "    output = 10.0\n",
        "  img =load_img(folder+ file,target_size=(30,40))\n",
        "  photo = img_to_array(img)\n",
        "  photos.append(photo)\n",
        "  labels.append(output)\n",
        "photos =asarray(photos)\n",
        "labels =asarray(labels)\n",
        "print(photos.shape,labels.shape)\n",
        "save('food_photo.npy',photos)\n",
        "save('food_labels.npy',labels)"
      ]
    },
    {
      "cell_type": "code",
      "source": [
        "import numpy as np\n",
        "x_train = np.load('/content/food_photo.npy')\n",
        "y_train = np.load('/content/food_labels.npy')\n",
        "print(x_train.shape)\n",
        "print(y_train.shape)\n",
        "x=x_train\n",
        "y=y_train\n",
        "from keras.utils import to_categorical\n",
        "x_train = x_train.astype('float32')/255\n",
        "y_train = to_categorical(y_train,100)"
      ],
      "metadata": {
        "colab": {
          "base_uri": "https://localhost:8080/"
        },
        "id": "CjolUhauxGBV",
        "outputId": "a2cefe2e-03be-4a05-fb13-9a8296cb6340"
      },
      "execution_count": null,
      "outputs": [
        {
          "output_type": "stream",
          "name": "stdout",
          "text": [
            "(320, 30, 40, 3)\n",
            "(320,)\n"
          ]
        }
      ]
    },
    {
      "cell_type": "code",
      "source": [
        "from keras.backend import flatten\n",
        "from keras.models import Sequential\n",
        "from keras.layers import Dense,Dropout,Flatten,Conv2D,MaxPooling2D,Normalization,LeakyReLU\n",
        "from keras.optimizers import Adam\n",
        "#32 lần\n",
        "model = Sequential()\n",
        "model.add(Conv2D(32,kernel_size = (3,3),activation = 'relu',input_shape=(30,40,3),padding='Same'))\n",
        "model.add(MaxPooling2D((2,2),padding='same'))\n",
        "model.add(Dropout(0.25))\n",
        "\n",
        "#64 lần\n",
        "model.add(Conv2D(64,(3,3),activation ='relu',padding ='same'))\n",
        "model.add(MaxPooling2D((2,2),padding='same'))\n",
        "model.add(Dropout(0.25))\n",
        "\n",
        "#128 lần\n",
        "model.add(Conv2D(128,(3,3),activation ='relu',padding ='same'))\n",
        "model.add(MaxPooling2D((2,2),padding='same'))\n",
        "model.add(Dropout(0.25))\n",
        "\n",
        "#256 lần\n",
        "model.add(Conv2D(256,(3,3),activation ='relu',padding ='same'))\n",
        "model.add(MaxPooling2D((2,2),padding='same'))\n",
        "model.add(Dropout(0.25))\n",
        "\n",
        "model.add(Flatten())\n",
        "model.add(Dense(1000,activation='relu'))\n",
        "model.add(LeakyReLU(alpha=0.1))\n",
        "model.add(Dense(100,activation='softmax'))\n",
        "\n",
        "from keras.losses import categorical_crossentropy\n",
        "model.compile(loss='categorical_crossentropy',optimizer=Adam(),metrics=['accuracy'])\n",
        "model.summary()\n",
        "train = model.fit(x_train,y_train,epochs=150,batch_size=64,verbose=1)"
      ],
      "metadata": {
        "id": "gDvsw9msyCBM",
        "colab": {
          "base_uri": "https://localhost:8080/"
        },
        "outputId": "1dd8349b-881e-45fb-9c45-74bfc08fd1d8"
      },
      "execution_count": null,
      "outputs": [
        {
          "output_type": "stream",
          "name": "stdout",
          "text": [
            "Model: \"sequential_3\"\n",
            "_________________________________________________________________\n",
            " Layer (type)                Output Shape              Param #   \n",
            "=================================================================\n",
            " conv2d_12 (Conv2D)          (None, 30, 40, 32)        896       \n",
            "                                                                 \n",
            " max_pooling2d_12 (MaxPoolin  (None, 15, 20, 32)       0         \n",
            " g2D)                                                            \n",
            "                                                                 \n",
            " dropout_12 (Dropout)        (None, 15, 20, 32)        0         \n",
            "                                                                 \n",
            " conv2d_13 (Conv2D)          (None, 15, 20, 64)        18496     \n",
            "                                                                 \n",
            " max_pooling2d_13 (MaxPoolin  (None, 8, 10, 64)        0         \n",
            " g2D)                                                            \n",
            "                                                                 \n",
            " dropout_13 (Dropout)        (None, 8, 10, 64)         0         \n",
            "                                                                 \n",
            " conv2d_14 (Conv2D)          (None, 8, 10, 128)        73856     \n",
            "                                                                 \n",
            " max_pooling2d_14 (MaxPoolin  (None, 4, 5, 128)        0         \n",
            " g2D)                                                            \n",
            "                                                                 \n",
            " dropout_14 (Dropout)        (None, 4, 5, 128)         0         \n",
            "                                                                 \n",
            " conv2d_15 (Conv2D)          (None, 4, 5, 256)         295168    \n",
            "                                                                 \n",
            " max_pooling2d_15 (MaxPoolin  (None, 2, 3, 256)        0         \n",
            " g2D)                                                            \n",
            "                                                                 \n",
            " dropout_15 (Dropout)        (None, 2, 3, 256)         0         \n",
            "                                                                 \n",
            " flatten_3 (Flatten)         (None, 1536)              0         \n",
            "                                                                 \n",
            " dense_6 (Dense)             (None, 1000)              1537000   \n",
            "                                                                 \n",
            " leaky_re_lu_3 (LeakyReLU)   (None, 1000)              0         \n",
            "                                                                 \n",
            " dense_7 (Dense)             (None, 100)               100100    \n",
            "                                                                 \n",
            "=================================================================\n",
            "Total params: 2,025,516\n",
            "Trainable params: 2,025,516\n",
            "Non-trainable params: 0\n",
            "_________________________________________________________________\n",
            "Epoch 1/150\n",
            "5/5 [==============================] - 4s 530ms/step - loss: 3.2968 - accuracy: 0.0875\n",
            "Epoch 2/150\n",
            "5/5 [==============================] - 2s 420ms/step - loss: 2.5669 - accuracy: 0.1125\n",
            "Epoch 3/150\n",
            "5/5 [==============================] - 2s 476ms/step - loss: 2.4312 - accuracy: 0.1187\n",
            "Epoch 4/150\n",
            "5/5 [==============================] - 3s 530ms/step - loss: 2.3373 - accuracy: 0.1094\n",
            "Epoch 5/150\n",
            "5/5 [==============================] - 2s 442ms/step - loss: 2.3400 - accuracy: 0.0844\n",
            "Epoch 6/150\n",
            "5/5 [==============================] - 1s 291ms/step - loss: 2.3192 - accuracy: 0.1063\n",
            "Epoch 7/150\n",
            "5/5 [==============================] - 2s 414ms/step - loss: 2.2960 - accuracy: 0.1781\n",
            "Epoch 8/150\n",
            "5/5 [==============================] - 3s 541ms/step - loss: 2.2356 - accuracy: 0.2125\n",
            "Epoch 9/150\n",
            "5/5 [==============================] - 2s 376ms/step - loss: 2.1297 - accuracy: 0.2250\n",
            "Epoch 10/150\n",
            "5/5 [==============================] - 1s 293ms/step - loss: 2.0416 - accuracy: 0.2594\n",
            "Epoch 11/150\n",
            "5/5 [==============================] - 1s 294ms/step - loss: 1.9481 - accuracy: 0.2719\n",
            "Epoch 12/150\n",
            "5/5 [==============================] - 1s 299ms/step - loss: 1.8655 - accuracy: 0.2875\n",
            "Epoch 13/150\n",
            "5/5 [==============================] - 1s 299ms/step - loss: 1.8586 - accuracy: 0.2906\n",
            "Epoch 14/150\n",
            "5/5 [==============================] - 1s 296ms/step - loss: 1.8257 - accuracy: 0.3187\n",
            "Epoch 15/150\n",
            "5/5 [==============================] - 1s 293ms/step - loss: 1.8111 - accuracy: 0.3156\n",
            "Epoch 16/150\n",
            "5/5 [==============================] - 2s 520ms/step - loss: 1.7206 - accuracy: 0.3875\n",
            "Epoch 17/150\n",
            "5/5 [==============================] - 3s 526ms/step - loss: 1.6278 - accuracy: 0.4125\n",
            "Epoch 18/150\n",
            "5/5 [==============================] - 2s 296ms/step - loss: 1.5646 - accuracy: 0.4094\n",
            "Epoch 19/150\n",
            "5/5 [==============================] - 1s 300ms/step - loss: 1.5640 - accuracy: 0.3969\n",
            "Epoch 20/150\n",
            "5/5 [==============================] - 1s 292ms/step - loss: 1.6291 - accuracy: 0.4062\n",
            "Epoch 21/150\n",
            "5/5 [==============================] - 1s 296ms/step - loss: 1.5488 - accuracy: 0.4563\n",
            "Epoch 22/150\n",
            "5/5 [==============================] - 1s 295ms/step - loss: 1.5378 - accuracy: 0.4062\n",
            "Epoch 23/150\n",
            "5/5 [==============================] - 1s 301ms/step - loss: 1.4692 - accuracy: 0.4875\n",
            "Epoch 24/150\n",
            "5/5 [==============================] - 2s 316ms/step - loss: 1.3164 - accuracy: 0.5094\n",
            "Epoch 25/150\n",
            "5/5 [==============================] - 3s 525ms/step - loss: 1.3211 - accuracy: 0.5219\n",
            "Epoch 26/150\n",
            "5/5 [==============================] - 2s 456ms/step - loss: 1.3973 - accuracy: 0.5063\n",
            "Epoch 27/150\n",
            "5/5 [==============================] - 1s 296ms/step - loss: 1.2773 - accuracy: 0.5344\n",
            "Epoch 28/150\n",
            "5/5 [==============================] - 1s 293ms/step - loss: 1.2768 - accuracy: 0.5219\n",
            "Epoch 29/150\n",
            "5/5 [==============================] - 1s 297ms/step - loss: 1.2031 - accuracy: 0.5688\n",
            "Epoch 30/150\n",
            "5/5 [==============================] - 1s 298ms/step - loss: 1.0587 - accuracy: 0.6281\n",
            "Epoch 31/150\n",
            "5/5 [==============================] - 1s 289ms/step - loss: 0.9936 - accuracy: 0.6375\n",
            "Epoch 32/150\n",
            "5/5 [==============================] - 1s 289ms/step - loss: 0.9739 - accuracy: 0.6656\n",
            "Epoch 33/150\n",
            "5/5 [==============================] - 2s 398ms/step - loss: 0.9269 - accuracy: 0.6719\n",
            "Epoch 34/150\n",
            "5/5 [==============================] - 3s 532ms/step - loss: 0.8899 - accuracy: 0.6812\n",
            "Epoch 35/150\n",
            "5/5 [==============================] - 2s 371ms/step - loss: 0.8068 - accuracy: 0.7063\n",
            "Epoch 36/150\n",
            "5/5 [==============================] - 1s 295ms/step - loss: 0.6935 - accuracy: 0.7656\n",
            "Epoch 37/150\n",
            "5/5 [==============================] - 1s 297ms/step - loss: 0.6430 - accuracy: 0.7969\n",
            "Epoch 38/150\n",
            "5/5 [==============================] - 1s 291ms/step - loss: 0.6947 - accuracy: 0.7375\n",
            "Epoch 39/150\n",
            "5/5 [==============================] - 2s 304ms/step - loss: 0.5219 - accuracy: 0.8375\n",
            "Epoch 40/150\n",
            "5/5 [==============================] - 1s 300ms/step - loss: 0.5144 - accuracy: 0.8156\n",
            "Epoch 41/150\n",
            "5/5 [==============================] - 1s 299ms/step - loss: 0.5893 - accuracy: 0.7937\n",
            "Epoch 42/150\n",
            "5/5 [==============================] - 2s 522ms/step - loss: 0.4299 - accuracy: 0.8375\n",
            "Epoch 43/150\n",
            "5/5 [==============================] - 3s 543ms/step - loss: 0.4123 - accuracy: 0.8438\n",
            "Epoch 44/150\n",
            "5/5 [==============================] - 2s 299ms/step - loss: 0.3760 - accuracy: 0.8969\n",
            "Epoch 45/150\n",
            "5/5 [==============================] - 1s 298ms/step - loss: 0.2914 - accuracy: 0.9094\n",
            "Epoch 46/150\n",
            "5/5 [==============================] - 1s 294ms/step - loss: 0.3620 - accuracy: 0.8844\n",
            "Epoch 47/150\n",
            "5/5 [==============================] - 1s 294ms/step - loss: 0.4238 - accuracy: 0.8469\n",
            "Epoch 48/150\n",
            "5/5 [==============================] - 1s 287ms/step - loss: 0.3064 - accuracy: 0.9031\n",
            "Epoch 49/150\n",
            "5/5 [==============================] - 1s 293ms/step - loss: 0.2804 - accuracy: 0.9031\n",
            "Epoch 50/150\n",
            "5/5 [==============================] - 2s 347ms/step - loss: 0.2470 - accuracy: 0.9125\n",
            "Epoch 51/150\n",
            "5/5 [==============================] - 3s 535ms/step - loss: 0.2246 - accuracy: 0.9406\n",
            "Epoch 52/150\n",
            "5/5 [==============================] - 2s 427ms/step - loss: 0.1667 - accuracy: 0.9500\n",
            "Epoch 53/150\n",
            "5/5 [==============================] - 1s 303ms/step - loss: 0.1917 - accuracy: 0.9531\n",
            "Epoch 54/150\n",
            "5/5 [==============================] - 2s 299ms/step - loss: 0.1466 - accuracy: 0.9375\n",
            "Epoch 55/150\n",
            "5/5 [==============================] - 1s 297ms/step - loss: 0.1077 - accuracy: 0.9719\n",
            "Epoch 56/150\n",
            "5/5 [==============================] - 1s 297ms/step - loss: 0.0938 - accuracy: 0.9750\n",
            "Epoch 57/150\n",
            "5/5 [==============================] - 1s 293ms/step - loss: 0.0743 - accuracy: 0.9812\n",
            "Epoch 58/150\n",
            "5/5 [==============================] - 1s 294ms/step - loss: 0.1544 - accuracy: 0.9438\n",
            "Epoch 59/150\n",
            "5/5 [==============================] - 2s 498ms/step - loss: 0.1113 - accuracy: 0.9625\n",
            "Epoch 60/150\n",
            "5/5 [==============================] - 3s 523ms/step - loss: 0.0767 - accuracy: 0.9812\n",
            "Epoch 61/150\n",
            "5/5 [==============================] - 2s 303ms/step - loss: 0.1046 - accuracy: 0.9688\n",
            "Epoch 62/150\n",
            "5/5 [==============================] - 1s 292ms/step - loss: 0.0880 - accuracy: 0.9750\n",
            "Epoch 63/150\n",
            "5/5 [==============================] - 1s 292ms/step - loss: 0.1139 - accuracy: 0.9563\n",
            "Epoch 64/150\n",
            "5/5 [==============================] - 2s 300ms/step - loss: 0.1210 - accuracy: 0.9688\n",
            "Epoch 65/150\n",
            "5/5 [==============================] - 1s 297ms/step - loss: 0.1067 - accuracy: 0.9750\n",
            "Epoch 66/150\n",
            "5/5 [==============================] - 1s 302ms/step - loss: 0.0961 - accuracy: 0.9719\n",
            "Epoch 67/150\n",
            "5/5 [==============================] - 2s 324ms/step - loss: 0.1162 - accuracy: 0.9594\n",
            "Epoch 68/150\n",
            "5/5 [==============================] - 3s 523ms/step - loss: 0.1070 - accuracy: 0.9625\n",
            "Epoch 69/150\n",
            "5/5 [==============================] - 3s 499ms/step - loss: 0.0847 - accuracy: 0.9781\n",
            "Epoch 70/150\n",
            "5/5 [==============================] - 2s 312ms/step - loss: 0.0854 - accuracy: 0.9719\n",
            "Epoch 71/150\n",
            "5/5 [==============================] - 2s 307ms/step - loss: 0.0964 - accuracy: 0.9656\n",
            "Epoch 72/150\n",
            "5/5 [==============================] - 1s 299ms/step - loss: 0.0595 - accuracy: 0.9875\n",
            "Epoch 73/150\n",
            "5/5 [==============================] - 2s 299ms/step - loss: 0.0555 - accuracy: 0.9781\n",
            "Epoch 74/150\n",
            "5/5 [==============================] - 2s 314ms/step - loss: 0.0531 - accuracy: 0.9906\n",
            "Epoch 75/150\n",
            "5/5 [==============================] - 2s 299ms/step - loss: 0.0491 - accuracy: 0.9937\n",
            "Epoch 76/150\n",
            "5/5 [==============================] - 2s 454ms/step - loss: 0.0409 - accuracy: 0.9875\n",
            "Epoch 77/150\n",
            "5/5 [==============================] - 3s 519ms/step - loss: 0.0628 - accuracy: 0.9875\n",
            "Epoch 78/150\n",
            "5/5 [==============================] - 2s 359ms/step - loss: 0.0526 - accuracy: 0.9875\n",
            "Epoch 79/150\n",
            "5/5 [==============================] - 2s 305ms/step - loss: 0.0553 - accuracy: 0.9750\n",
            "Epoch 80/150\n",
            "5/5 [==============================] - 1s 301ms/step - loss: 0.0758 - accuracy: 0.9719\n",
            "Epoch 81/150\n",
            "5/5 [==============================] - 2s 300ms/step - loss: 0.0686 - accuracy: 0.9781\n",
            "Epoch 82/150\n",
            "5/5 [==============================] - 1s 293ms/step - loss: 0.0378 - accuracy: 0.9875\n",
            "Epoch 83/150\n",
            "5/5 [==============================] - 1s 298ms/step - loss: 0.0565 - accuracy: 0.9812\n",
            "Epoch 84/150\n",
            "5/5 [==============================] - 1s 296ms/step - loss: 0.0373 - accuracy: 0.9844\n",
            "Epoch 85/150\n",
            "5/5 [==============================] - 3s 541ms/step - loss: 0.0489 - accuracy: 0.9844\n",
            "Epoch 86/150\n",
            "5/5 [==============================] - 3s 505ms/step - loss: 0.0378 - accuracy: 0.9937\n",
            "Epoch 87/150\n",
            "5/5 [==============================] - 1s 300ms/step - loss: 0.0420 - accuracy: 0.9844\n",
            "Epoch 88/150\n",
            "5/5 [==============================] - 2s 300ms/step - loss: 0.0319 - accuracy: 0.9875\n",
            "Epoch 89/150\n",
            "5/5 [==============================] - 1s 298ms/step - loss: 0.0278 - accuracy: 0.9937\n",
            "Epoch 90/150\n",
            "5/5 [==============================] - 1s 296ms/step - loss: 0.0245 - accuracy: 0.9969\n",
            "Epoch 91/150\n",
            "5/5 [==============================] - 1s 297ms/step - loss: 0.0348 - accuracy: 0.9906\n",
            "Epoch 92/150\n",
            "5/5 [==============================] - 2s 297ms/step - loss: 0.0213 - accuracy: 0.9906\n",
            "Epoch 93/150\n",
            "5/5 [==============================] - 2s 385ms/step - loss: 0.0152 - accuracy: 0.9937\n",
            "Epoch 94/150\n",
            "5/5 [==============================] - 3s 562ms/step - loss: 0.0200 - accuracy: 0.9969\n",
            "Epoch 95/150\n",
            "5/5 [==============================] - 3s 583ms/step - loss: 0.0420 - accuracy: 0.9844\n",
            "Epoch 96/150\n",
            "5/5 [==============================] - 3s 538ms/step - loss: 0.0150 - accuracy: 0.9937\n",
            "Epoch 97/150\n",
            "5/5 [==============================] - 2s 307ms/step - loss: 0.0196 - accuracy: 0.9969\n",
            "Epoch 98/150\n",
            "5/5 [==============================] - 2s 306ms/step - loss: 0.0195 - accuracy: 0.9937\n",
            "Epoch 99/150\n",
            "5/5 [==============================] - 2s 311ms/step - loss: 0.0117 - accuracy: 1.0000\n",
            "Epoch 100/150\n",
            "5/5 [==============================] - 2s 307ms/step - loss: 0.0158 - accuracy: 0.9937\n",
            "Epoch 101/150\n",
            "5/5 [==============================] - 2s 354ms/step - loss: 0.0163 - accuracy: 0.9969\n",
            "Epoch 102/150\n",
            "5/5 [==============================] - 3s 537ms/step - loss: 0.0156 - accuracy: 0.9937\n",
            "Epoch 103/150\n",
            "5/5 [==============================] - 2s 462ms/step - loss: 0.0129 - accuracy: 0.9969\n",
            "Epoch 104/150\n",
            "5/5 [==============================] - 1s 299ms/step - loss: 0.0297 - accuracy: 0.9906\n",
            "Epoch 105/150\n",
            "5/5 [==============================] - 2s 305ms/step - loss: 0.0126 - accuracy: 0.9969\n",
            "Epoch 106/150\n",
            "5/5 [==============================] - 1s 295ms/step - loss: 0.0328 - accuracy: 0.9844\n",
            "Epoch 107/150\n",
            "5/5 [==============================] - 2s 302ms/step - loss: 0.0241 - accuracy: 0.9875\n",
            "Epoch 108/150\n",
            "5/5 [==============================] - 2s 301ms/step - loss: 0.0279 - accuracy: 0.9875\n",
            "Epoch 109/150\n",
            "5/5 [==============================] - 2s 305ms/step - loss: 0.0130 - accuracy: 1.0000\n",
            "Epoch 110/150\n",
            "5/5 [==============================] - 2s 506ms/step - loss: 0.0294 - accuracy: 0.9969\n",
            "Epoch 111/150\n",
            "5/5 [==============================] - 3s 542ms/step - loss: 0.0266 - accuracy: 0.9906\n",
            "Epoch 112/150\n",
            "5/5 [==============================] - 2s 298ms/step - loss: 0.0342 - accuracy: 0.9906\n",
            "Epoch 113/150\n",
            "5/5 [==============================] - 1s 300ms/step - loss: 0.0540 - accuracy: 0.9844\n",
            "Epoch 114/150\n",
            "5/5 [==============================] - 2s 311ms/step - loss: 0.0388 - accuracy: 0.9906\n",
            "Epoch 115/150\n",
            "5/5 [==============================] - 2s 311ms/step - loss: 0.0331 - accuracy: 0.9875\n",
            "Epoch 116/150\n",
            "5/5 [==============================] - 1s 301ms/step - loss: 0.0379 - accuracy: 0.9937\n",
            "Epoch 117/150\n",
            "5/5 [==============================] - 2s 307ms/step - loss: 0.0344 - accuracy: 0.9875\n",
            "Epoch 118/150\n",
            "5/5 [==============================] - 2s 368ms/step - loss: 0.0279 - accuracy: 0.9937\n",
            "Epoch 119/150\n",
            "5/5 [==============================] - 3s 549ms/step - loss: 0.0187 - accuracy: 0.9937\n",
            "Epoch 120/150\n",
            "5/5 [==============================] - 2s 432ms/step - loss: 0.0116 - accuracy: 1.0000\n",
            "Epoch 121/150\n",
            "5/5 [==============================] - 1s 302ms/step - loss: 0.0106 - accuracy: 1.0000\n",
            "Epoch 122/150\n",
            "5/5 [==============================] - 2s 311ms/step - loss: 0.0145 - accuracy: 0.9937\n",
            "Epoch 123/150\n",
            "5/5 [==============================] - 2s 306ms/step - loss: 0.0292 - accuracy: 0.9937\n",
            "Epoch 124/150\n",
            "5/5 [==============================] - 2s 300ms/step - loss: 0.0161 - accuracy: 0.9969\n",
            "Epoch 125/150\n",
            "5/5 [==============================] - 1s 293ms/step - loss: 0.0179 - accuracy: 0.9937\n",
            "Epoch 126/150\n",
            "5/5 [==============================] - 2s 314ms/step - loss: 0.0275 - accuracy: 0.9875\n",
            "Epoch 127/150\n",
            "5/5 [==============================] - 2s 523ms/step - loss: 0.0335 - accuracy: 0.9906\n",
            "Epoch 128/150\n",
            "5/5 [==============================] - 3s 541ms/step - loss: 0.0265 - accuracy: 0.9875\n",
            "Epoch 129/150\n",
            "5/5 [==============================] - 2s 302ms/step - loss: 0.0679 - accuracy: 0.9781\n",
            "Epoch 130/150\n",
            "5/5 [==============================] - 1s 296ms/step - loss: 0.0321 - accuracy: 0.9906\n",
            "Epoch 131/150\n",
            "5/5 [==============================] - 2s 301ms/step - loss: 0.0115 - accuracy: 1.0000\n",
            "Epoch 132/150\n",
            "5/5 [==============================] - 1s 302ms/step - loss: 0.0550 - accuracy: 0.9812\n",
            "Epoch 133/150\n",
            "5/5 [==============================] - 1s 293ms/step - loss: 0.0280 - accuracy: 0.9875\n",
            "Epoch 134/150\n",
            "5/5 [==============================] - 1s 298ms/step - loss: 0.0511 - accuracy: 0.9812\n",
            "Epoch 135/150\n",
            "5/5 [==============================] - 2s 386ms/step - loss: 0.0218 - accuracy: 0.9906\n",
            "Epoch 136/150\n",
            "5/5 [==============================] - 3s 551ms/step - loss: 0.0314 - accuracy: 0.9937\n",
            "Epoch 137/150\n",
            "5/5 [==============================] - 2s 400ms/step - loss: 0.0255 - accuracy: 0.9937\n",
            "Epoch 138/150\n",
            "5/5 [==============================] - 1s 301ms/step - loss: 0.0278 - accuracy: 0.9875\n",
            "Epoch 139/150\n",
            "5/5 [==============================] - 1s 294ms/step - loss: 0.0489 - accuracy: 0.9906\n",
            "Epoch 140/150\n",
            "5/5 [==============================] - 1s 298ms/step - loss: 0.0104 - accuracy: 0.9969\n",
            "Epoch 141/150\n",
            "5/5 [==============================] - 2s 302ms/step - loss: 0.0300 - accuracy: 0.9844\n",
            "Epoch 142/150\n",
            "5/5 [==============================] - 1s 303ms/step - loss: 0.0246 - accuracy: 0.9844\n",
            "Epoch 143/150\n",
            "5/5 [==============================] - 2s 313ms/step - loss: 0.0084 - accuracy: 1.0000\n",
            "Epoch 144/150\n",
            "5/5 [==============================] - 2s 544ms/step - loss: 0.0140 - accuracy: 0.9969\n",
            "Epoch 145/150\n",
            "5/5 [==============================] - 3s 508ms/step - loss: 0.0035 - accuracy: 1.0000\n",
            "Epoch 146/150\n",
            "5/5 [==============================] - 2s 297ms/step - loss: 0.0107 - accuracy: 0.9969\n",
            "Epoch 147/150\n",
            "5/5 [==============================] - 1s 299ms/step - loss: 0.0297 - accuracy: 0.9969\n",
            "Epoch 148/150\n",
            "5/5 [==============================] - 1s 299ms/step - loss: 0.0170 - accuracy: 0.9906\n",
            "Epoch 149/150\n",
            "5/5 [==============================] - 1s 296ms/step - loss: 0.0128 - accuracy: 0.9969\n",
            "Epoch 150/150\n",
            "5/5 [==============================] - 2s 300ms/step - loss: 0.0165 - accuracy: 0.9969\n"
          ]
        }
      ]
    },
    {
      "cell_type": "code",
      "source": [
        "model.save('VN_dishes.h5')"
      ],
      "metadata": {
        "id": "odD57bXEML66"
      },
      "execution_count": null,
      "outputs": []
    },
    {
      "cell_type": "code",
      "source": [
        "model_1=load_model('VN_dishes.h5')"
      ],
      "metadata": {
        "id": "K_apg_qCYR6q"
      },
      "execution_count": null,
      "outputs": []
    },
    {
      "cell_type": "code",
      "source": [
        "import matplotlib.pyplot as plt\n",
        "from keras.utils import load_img\n",
        "from keras.utils.image_utils import img_to_array\n",
        "import numpy as np\n",
        "vat = {1: 'Phở',2:'Bánh mì', 3:'Bún bò', 4:'Bánh xèo',5:'Gỏi cuốn', 6:'Phá lấu',7:'Bún đậu mắm tôm', 8:'Cơm tấm',9:'Thịt kho',10:'Bún riêu'}\n",
        "img = load_img(\"/content/drive/MyDrive/Check AI/bunbo.jpg\",target_size=(30,40))\n",
        "plt.imshow(img)\n",
        "img = img_to_array(img)\n",
        "img=img.reshape(1,30,40,3)\n",
        "img = img.astype('float32')\n",
        "img =img/255\n",
        "result  = np.argmax(model.predict(img),axis=1)\n",
        "vat[result[0]]"
      ],
      "metadata": {
        "colab": {
          "base_uri": "https://localhost:8080/",
          "height": 466
        },
        "id": "Gl8Ej5lGPFQb",
        "outputId": "5a9c3e68-0401-4eec-dfaf-b6faf2425087"
      },
      "execution_count": null,
      "outputs": [
        {
          "output_type": "stream",
          "name": "stdout",
          "text": [
            "1/1 [==============================] - 0s 43ms/step\n"
          ]
        },
        {
          "output_type": "execute_result",
          "data": {
            "text/plain": [
              "'Bún bò'"
            ],
            "application/vnd.google.colaboratory.intrinsic+json": {
              "type": "string"
            }
          },
          "metadata": {},
          "execution_count": 33
        },
        {
          "output_type": "display_data",
          "data": {
            "text/plain": [
              "<Figure size 640x480 with 1 Axes>"
            ],
            "image/png": "[encoded data removed]"
          },
          "metadata": {}
        }
      ]
    },
    {
      "cell_type": "code",
      "source": [
        "img = load_img(\"/content/drive/MyDrive/Check AI/phalau.jpg\",target_size=(30,40))\n",
        "plt.imshow(img)\n",
        "img = img_to_array(img)\n",
        "img=img.reshape(1,30,40,3)\n",
        "img = img.astype('float32')\n",
        "img =img/255\n",
        "result  = np.argmax(model.predict(img),axis=1)\n",
        "vat[result[0]]"
      ],
      "metadata": {
        "id": "anf-BDRLdEtm",
        "colab": {
          "base_uri": "https://localhost:8080/",
          "height": 466
        },
        "outputId": "5b864221-a0fc-4f82-9d23-0b2b1e068b43"
      },
      "execution_count": null,
      "outputs": [
        {
          "output_type": "stream",
          "name": "stdout",
          "text": [
            "1/1 [==============================] - 0s 181ms/step\n"
          ]
        },
        {
          "output_type": "execute_result",
          "data": {
            "text/plain": [
              "'Phá lấu'"
            ],
            "application/vnd.google.colaboratory.intrinsic+json": {
              "type": "string"
            }
          },
          "metadata": {},
          "execution_count": 34
        },
        {
          "output_type": "display_data",
          "data": {
            "text/plain": [
              "<Figure size 640x480 with 1 Axes>"
            ],
            "image/png": "[encoded data removed]"
          },
          "metadata": {}
        }
      ]
    },
    {
      "cell_type": "code",
      "source": [
        "img = load_img(\"/content/drive/MyDrive/Check AI/banhxeo.jpg\",target_size=(30,40))\n",
        "plt.imshow(img)\n",
        "img = img_to_array(img)\n",
        "img=img.reshape(1,30,40,3)\n",
        "img = img.astype('float32')\n",
        "img =img/255\n",
        "result  = np.argmax(model.predict(img),axis=1)\n",
        "vat[result[0]]"
      ],
      "metadata": {
        "colab": {
          "base_uri": "https://localhost:8080/",
          "height": 466
        },
        "id": "YzlPNr-HjNNt",
        "outputId": "18f10c1c-b1e3-4824-a9d8-3f3372397902"
      },
      "execution_count": null,
      "outputs": [
        {
          "output_type": "stream",
          "name": "stdout",
          "text": [
            "1/1 [==============================] - 0s 27ms/step\n"
          ]
        },
        {
          "output_type": "execute_result",
          "data": {
            "text/plain": [
              "'Bánh xèo'"
            ],
            "application/vnd.google.colaboratory.intrinsic+json": {
              "type": "string"
            }
          },
          "metadata": {},
          "execution_count": 35
        },
        {
          "output_type": "display_data",
          "data": {
            "text/plain": [
              "<Figure size 640x480 with 1 Axes>"
            ],
            "image/png": "[encoded data removed]"
          },
          "metadata": {}
        }
      ]
    },
    {
      "cell_type": "code",
      "source": [
        "img = load_img(\"/content/drive/MyDrive/Check AI/bundau.jpg\",target_size=(30,40))\n",
        "plt.imshow(img)\n",
        "img = img_to_array(img)\n",
        "img=img.reshape(1,30,40,3)\n",
        "img = img.astype('float32')\n",
        "img =img/255\n",
        "result  = np.argmax(model.predict(img),axis=1)\n",
        "vat[result[0]]"
      ],
      "metadata": {
        "id": "LFEQ2O4JjPzV",
        "outputId": "c4a377b9-f1fd-4ced-82d6-40fb1b494b11",
        "colab": {
          "base_uri": "https://localhost:8080/",
          "height": 466
        }
      },
      "execution_count": null,
      "outputs": [
        {
          "output_type": "stream",
          "name": "stdout",
          "text": [
            "1/1 [==============================] - 0s 54ms/step\n"
          ]
        },
        {
          "output_type": "execute_result",
          "data": {
            "text/plain": [
              "'Bún đậu mắm tôm'"
            ],
            "application/vnd.google.colaboratory.intrinsic+json": {
              "type": "string"
            }
          },
          "metadata": {},
          "execution_count": 36
        },
        {
          "output_type": "display_data",
          "data": {
            "text/plain": [
              "<Figure size 640x480 with 1 Axes>"
            ],
            "image/png": "[encoded data removed]"
          },
          "metadata": {}
        }
      ]
    },
    {
      "cell_type": "code",
      "source": [],
      "metadata": {
        "id": "wY2GVyafjRsL"
      },
      "execution_count": null,
      "outputs": []
    }
  ]
}