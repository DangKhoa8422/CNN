{
  "nbformat": 4,
  "nbformat_minor": 0,
  "metadata": {
    "colab": {
      "provenance": [],
      "authorship_tag": "ABX9TyNRzQgBKkie0R75ydPmSXDw",
      "include_colab_link": true
    },
    "kernelspec": {
      "name": "python3",
      "display_name": "Python 3"
    },
    "language_info": {
      "name": "python"
    }
  },
  "cells": [
    {
      "cell_type": "markdown",
      "metadata": {
        "id": "view-in-github",
        "colab_type": "text"
      },
      "source": [
        "<a href=\"https://colab.research.google.com/github/DangKhoa8422/CNN/blob/main/Flower.ipynb\" target=\"_parent\"><img src=\"https://colab.research.google.com/assets/colab-badge.svg\" alt=\"Open In Colab\"/></a>"
      ]
    },
    {
      "cell_type": "markdown",
      "source": [
        "5 KINDS OF FLOWER"
      ],
      "metadata": {
        "id": "8_nRWNCiof4_"
      }
    },
    {
      "cell_type": "code",
      "execution_count": 1,
      "metadata": {
        "id": "kn-GUVAmCw1R",
        "colab": {
          "base_uri": "https://localhost:8080/",
          "height": 0
        },
        "outputId": "49fd3d62-998e-491e-dba0-00d3824c9be9"
      },
      "outputs": [
        {
          "output_type": "stream",
          "name": "stdout",
          "text": [
            "Mounted at /content/drive\n",
            "(240, 30, 40, 3) (240,)\n"
          ]
        }
      ],
      "source": [
        "from numpy import asarray\n",
        "from os import listdir\n",
        "from numpy import asarray,save\n",
        "from keras.utils import img_to_array,load_img\n",
        "from google.colab import drive\n",
        "drive.mount('/content/drive')\n",
        "from keras.models import load_model\n",
        "\n",
        "folder = '/content/drive/MyDrive/Hoa/'\n",
        "photos, labels=list (),list()\n",
        "for file in listdir(folder):\n",
        "  output=0.0\n",
        "  if file.startswith ('hong'):\n",
        "    output=1.0\n",
        "  if file.startswith ('sen'):\n",
        "    output=2.0\n",
        "  if file.startswith ('sung'):\n",
        "    output = 3.0\n",
        "  if file.startswith ('mo'):\n",
        "    output = 4.0\n",
        "  if file.startswith ('cuc'):\n",
        "    output = 5.0\n",
        "  if file.startswith ('pink'):\n",
        "    output = 6.0\n",
        "  img =load_img(folder+ file,target_size=(30,40))\n",
        "  photo = img_to_array(img)\n",
        "  photos.append(photo)\n",
        "  labels.append(output)\n",
        "photos =asarray(photos)\n",
        "labels =asarray(labels)\n",
        "print(photos.shape,labels.shape)\n",
        "save('flower_photos.npy',photos)\n",
        "save('flower_labels.npy',labels)"
      ]
    },
    {
      "cell_type": "code",
      "source": [
        "import numpy as np\n",
        "x_train = np.load('/content/flower_photos.npy')\n",
        "y_train = np.load('/content/flower_labels.npy')\n",
        "print(x_train.shape)\n",
        "print(y_train.shape)\n",
        "x=x_train\n",
        "y=y_train\n",
        "from keras.utils import to_categorical\n",
        "x_train = x_train.astype('float32')/255\n",
        "y_train = to_categorical(y_train,100)"
      ],
      "metadata": {
        "colab": {
          "base_uri": "https://localhost:8080/",
          "height": 0
        },
        "id": "fFXaei2vtMaX",
        "outputId": "b1ac2121-3d71-4f54-f1c1-52c22b5c2957"
      },
      "execution_count": 13,
      "outputs": [
        {
          "output_type": "stream",
          "name": "stdout",
          "text": [
            "(240, 30, 40, 3)\n",
            "(240,)\n"
          ]
        }
      ]
    },
    {
      "cell_type": "code",
      "source": [
        "from keras.backend import flatten\n",
        "from keras.models import Sequential\n",
        "from keras.layers import Dense,Dropout,Flatten,Conv2D,MaxPooling2D,Normalization,LeakyReLU\n",
        "from keras.optimizers import Adam\n",
        "#32 lần\n",
        "model = Sequential()\n",
        "model.add(Conv2D(32,kernel_size = (3,3),activation = 'relu',input_shape=(30,40,3),padding='Same'))\n",
        "model.add(MaxPooling2D((2,2),padding='same'))\n",
        "model.add(Dropout(0.25))\n",
        "\n",
        "#64 lần\n",
        "model.add(Conv2D(64,(3,3),activation ='relu',padding ='same'))\n",
        "model.add(MaxPooling2D((2,2),padding='same'))\n",
        "model.add(Dropout(0.25))\n",
        "\n",
        "#128 lần\n",
        "model.add(Conv2D(128,(3,3),activation ='relu',padding ='same'))\n",
        "model.add(MaxPooling2D((2,2),padding='same'))\n",
        "model.add(Dropout(0.25))\n",
        "\n",
        "#256 lần\n",
        "model.add(Conv2D(256,(3,3),activation ='relu',padding ='same'))\n",
        "model.add(MaxPooling2D((2,2),padding='same'))\n",
        "model.add(Dropout(0.25))\n",
        "\n",
        "model.add(Flatten())\n",
        "model.add(Dense(500,activation='relu'))\n",
        "model.add(LeakyReLU(alpha=0.1))\n",
        "model.add(Dense(100,activation='softmax'))\n",
        "\n",
        "from keras.losses import categorical_crossentropy\n",
        "model.compile(loss='categorical_crossentropy',optimizer=Adam(),metrics=['accuracy'])\n",
        "model.summary()\n",
        "train = model.fit(x_train,y_train,epochs=100,batch_size=64,verbose=1)"
      ],
      "metadata": {
        "colab": {
          "base_uri": "https://localhost:8080/",
          "height": 0
        },
        "id": "4DnjJ7mKuBzr",
        "outputId": "bbe86629-0429-4694-d59d-7e6368997389"
      },
      "execution_count": 16,
      "outputs": [
        {
          "output_type": "stream",
          "name": "stdout",
          "text": [
            "Model: \"sequential\"\n",
            "_________________________________________________________________\n",
            " Layer (type)                Output Shape              Param #   \n",
            "=================================================================\n",
            " conv2d (Conv2D)             (None, 30, 40, 32)        896       \n",
            "                                                                 \n",
            " max_pooling2d (MaxPooling2D  (None, 15, 20, 32)       0         \n",
            " )                                                               \n",
            "                                                                 \n",
            " dropout (Dropout)           (None, 15, 20, 32)        0         \n",
            "                                                                 \n",
            " conv2d_1 (Conv2D)           (None, 15, 20, 64)        18496     \n",
            "                                                                 \n",
            " max_pooling2d_1 (MaxPooling  (None, 8, 10, 64)        0         \n",
            " 2D)                                                             \n",
            "                                                                 \n",
            " dropout_1 (Dropout)         (None, 8, 10, 64)         0         \n",
            "                                                                 \n",
            " conv2d_2 (Conv2D)           (None, 8, 10, 128)        73856     \n",
            "                                                                 \n",
            " max_pooling2d_2 (MaxPooling  (None, 4, 5, 128)        0         \n",
            " 2D)                                                             \n",
            "                                                                 \n",
            " dropout_2 (Dropout)         (None, 4, 5, 128)         0         \n",
            "                                                                 \n",
            " conv2d_3 (Conv2D)           (None, 4, 5, 256)         295168    \n",
            "                                                                 \n",
            " max_pooling2d_3 (MaxPooling  (None, 2, 3, 256)        0         \n",
            " 2D)                                                             \n",
            "                                                                 \n",
            " dropout_3 (Dropout)         (None, 2, 3, 256)         0         \n",
            "                                                                 \n",
            " flatten (Flatten)           (None, 1536)              0         \n",
            "                                                                 \n",
            " dense (Dense)               (None, 500)               768500    \n",
            "                                                                 \n",
            " leaky_re_lu (LeakyReLU)     (None, 500)               0         \n",
            "                                                                 \n",
            " dense_1 (Dense)             (None, 100)               50100     \n",
            "                                                                 \n",
            "=================================================================\n",
            "Total params: 1,207,016\n",
            "Trainable params: 1,207,016\n",
            "Non-trainable params: 0\n",
            "_________________________________________________________________\n",
            "Epoch 1/100\n",
            "4/4 [==============================] - 2s 265ms/step - loss: 3.5734 - accuracy: 0.1000\n",
            "Epoch 2/100\n",
            "4/4 [==============================] - 1s 254ms/step - loss: 2.3708 - accuracy: 0.1208\n",
            "Epoch 3/100\n",
            "4/4 [==============================] - 1s 256ms/step - loss: 1.8928 - accuracy: 0.1917\n",
            "Epoch 4/100\n",
            "4/4 [==============================] - 1s 258ms/step - loss: 1.9863 - accuracy: 0.1542\n",
            "Epoch 5/100\n",
            "4/4 [==============================] - 1s 405ms/step - loss: 1.8412 - accuracy: 0.1667\n",
            "Epoch 6/100\n",
            "4/4 [==============================] - 2s 460ms/step - loss: 1.7983 - accuracy: 0.1667\n",
            "Epoch 7/100\n",
            "4/4 [==============================] - 2s 448ms/step - loss: 1.8166 - accuracy: 0.1542\n",
            "Epoch 8/100\n",
            "4/4 [==============================] - 1s 249ms/step - loss: 1.7844 - accuracy: 0.2083\n",
            "Epoch 9/100\n",
            "4/4 [==============================] - 1s 245ms/step - loss: 1.7491 - accuracy: 0.2333\n",
            "Epoch 10/100\n",
            "4/4 [==============================] - 1s 254ms/step - loss: 1.6963 - accuracy: 0.2583\n",
            "Epoch 11/100\n",
            "4/4 [==============================] - 1s 252ms/step - loss: 1.5933 - accuracy: 0.3708\n",
            "Epoch 12/100\n",
            "4/4 [==============================] - 1s 250ms/step - loss: 1.4962 - accuracy: 0.3667\n",
            "Epoch 13/100\n",
            "4/4 [==============================] - 1s 246ms/step - loss: 1.4415 - accuracy: 0.4125\n",
            "Epoch 14/100\n",
            "4/4 [==============================] - 1s 248ms/step - loss: 1.6281 - accuracy: 0.3500\n",
            "Epoch 15/100\n",
            "4/4 [==============================] - 1s 247ms/step - loss: 1.4384 - accuracy: 0.4333\n",
            "Epoch 16/100\n",
            "4/4 [==============================] - 1s 248ms/step - loss: 1.3797 - accuracy: 0.4542\n",
            "Epoch 17/100\n",
            "4/4 [==============================] - 1s 290ms/step - loss: 1.3761 - accuracy: 0.4667\n",
            "Epoch 18/100\n",
            "4/4 [==============================] - 2s 442ms/step - loss: 1.2911 - accuracy: 0.5042\n",
            "Epoch 19/100\n",
            "4/4 [==============================] - 2s 434ms/step - loss: 1.2373 - accuracy: 0.5625\n",
            "Epoch 20/100\n",
            "4/4 [==============================] - 1s 336ms/step - loss: 1.2204 - accuracy: 0.5458\n",
            "Epoch 21/100\n",
            "4/4 [==============================] - 1s 249ms/step - loss: 1.1685 - accuracy: 0.5542\n",
            "Epoch 22/100\n",
            "4/4 [==============================] - 1s 250ms/step - loss: 1.1243 - accuracy: 0.5625\n",
            "Epoch 23/100\n",
            "4/4 [==============================] - 2s 411ms/step - loss: 1.1313 - accuracy: 0.5583\n",
            "Epoch 24/100\n",
            "4/4 [==============================] - 1s 248ms/step - loss: 1.0385 - accuracy: 0.6208\n",
            "Epoch 25/100\n",
            "4/4 [==============================] - 1s 250ms/step - loss: 0.9543 - accuracy: 0.6333\n",
            "Epoch 26/100\n",
            "4/4 [==============================] - 1s 251ms/step - loss: 1.0022 - accuracy: 0.6250\n",
            "Epoch 27/100\n",
            "4/4 [==============================] - 1s 249ms/step - loss: 1.0030 - accuracy: 0.6458\n",
            "Epoch 28/100\n",
            "4/4 [==============================] - 1s 255ms/step - loss: 0.9093 - accuracy: 0.6917\n",
            "Epoch 29/100\n",
            "4/4 [==============================] - 2s 409ms/step - loss: 0.8618 - accuracy: 0.6958\n",
            "Epoch 30/100\n",
            "4/4 [==============================] - 2s 451ms/step - loss: 0.8219 - accuracy: 0.6917\n",
            "Epoch 31/100\n",
            "4/4 [==============================] - 2s 452ms/step - loss: 0.8338 - accuracy: 0.6583\n",
            "Epoch 32/100\n",
            "4/4 [==============================] - 1s 249ms/step - loss: 0.7979 - accuracy: 0.6792\n",
            "Epoch 33/100\n",
            "4/4 [==============================] - 1s 249ms/step - loss: 0.6648 - accuracy: 0.7542\n",
            "Epoch 34/100\n",
            "4/4 [==============================] - 1s 253ms/step - loss: 0.6673 - accuracy: 0.7792\n",
            "Epoch 35/100\n",
            "4/4 [==============================] - 1s 250ms/step - loss: 0.6489 - accuracy: 0.7417\n",
            "Epoch 36/100\n",
            "4/4 [==============================] - 1s 248ms/step - loss: 0.5848 - accuracy: 0.7792\n",
            "Epoch 37/100\n",
            "4/4 [==============================] - 1s 255ms/step - loss: 0.5744 - accuracy: 0.8125\n",
            "Epoch 38/100\n",
            "4/4 [==============================] - 1s 247ms/step - loss: 0.5829 - accuracy: 0.7667\n",
            "Epoch 39/100\n",
            "4/4 [==============================] - 1s 250ms/step - loss: 0.5455 - accuracy: 0.8083\n",
            "Epoch 40/100\n",
            "4/4 [==============================] - 1s 246ms/step - loss: 0.5290 - accuracy: 0.8083\n",
            "Epoch 41/100\n",
            "4/4 [==============================] - 1s 312ms/step - loss: 0.4200 - accuracy: 0.8583\n",
            "Epoch 42/100\n",
            "4/4 [==============================] - 2s 460ms/step - loss: 0.4226 - accuracy: 0.8458\n",
            "Epoch 43/100\n",
            "4/4 [==============================] - 2s 446ms/step - loss: 0.4055 - accuracy: 0.8458\n",
            "Epoch 44/100\n",
            "4/4 [==============================] - 1s 300ms/step - loss: 0.3407 - accuracy: 0.8792\n",
            "Epoch 45/100\n",
            "4/4 [==============================] - 1s 247ms/step - loss: 0.3334 - accuracy: 0.8917\n",
            "Epoch 46/100\n",
            "4/4 [==============================] - 1s 246ms/step - loss: 0.3053 - accuracy: 0.8792\n",
            "Epoch 47/100\n",
            "4/4 [==============================] - 1s 249ms/step - loss: 0.2583 - accuracy: 0.9417\n",
            "Epoch 48/100\n",
            "4/4 [==============================] - 1s 252ms/step - loss: 0.2824 - accuracy: 0.8917\n",
            "Epoch 49/100\n",
            "4/4 [==============================] - 1s 248ms/step - loss: 0.2328 - accuracy: 0.9208\n",
            "Epoch 50/100\n",
            "4/4 [==============================] - 1s 255ms/step - loss: 0.2281 - accuracy: 0.9333\n",
            "Epoch 51/100\n",
            "4/4 [==============================] - 1s 250ms/step - loss: 0.2088 - accuracy: 0.9292\n",
            "Epoch 52/100\n",
            "4/4 [==============================] - 1s 250ms/step - loss: 0.2711 - accuracy: 0.9083\n",
            "Epoch 53/100\n",
            "4/4 [==============================] - 1s 259ms/step - loss: 0.2014 - accuracy: 0.9292\n",
            "Epoch 54/100\n",
            "4/4 [==============================] - 2s 451ms/step - loss: 0.1750 - accuracy: 0.9417\n",
            "Epoch 55/100\n",
            "4/4 [==============================] - 2s 456ms/step - loss: 0.1738 - accuracy: 0.9375\n",
            "Epoch 56/100\n",
            "4/4 [==============================] - 2s 408ms/step - loss: 0.1363 - accuracy: 0.9667\n",
            "Epoch 57/100\n",
            "4/4 [==============================] - 1s 253ms/step - loss: 0.1209 - accuracy: 0.9583\n",
            "Epoch 58/100\n",
            "4/4 [==============================] - 1s 255ms/step - loss: 0.1531 - accuracy: 0.9458\n",
            "Epoch 59/100\n",
            "4/4 [==============================] - 1s 256ms/step - loss: 0.1497 - accuracy: 0.9542\n",
            "Epoch 60/100\n",
            "4/4 [==============================] - 1s 250ms/step - loss: 0.0983 - accuracy: 0.9708\n",
            "Epoch 61/100\n",
            "4/4 [==============================] - 1s 251ms/step - loss: 0.1125 - accuracy: 0.9542\n",
            "Epoch 62/100\n",
            "4/4 [==============================] - 1s 254ms/step - loss: 0.0641 - accuracy: 0.9917\n",
            "Epoch 63/100\n",
            "4/4 [==============================] - 1s 251ms/step - loss: 0.0990 - accuracy: 0.9708\n",
            "Epoch 64/100\n",
            "4/4 [==============================] - 1s 252ms/step - loss: 0.1256 - accuracy: 0.9667\n",
            "Epoch 65/100\n",
            "4/4 [==============================] - 1s 257ms/step - loss: 0.1325 - accuracy: 0.9583\n",
            "Epoch 66/100\n",
            "4/4 [==============================] - 1s 329ms/step - loss: 0.1354 - accuracy: 0.9375\n",
            "Epoch 67/100\n",
            "4/4 [==============================] - 2s 426ms/step - loss: 0.1010 - accuracy: 0.9708\n",
            "Epoch 68/100\n",
            "4/4 [==============================] - 2s 455ms/step - loss: 0.0950 - accuracy: 0.9708\n",
            "Epoch 69/100\n",
            "4/4 [==============================] - 1s 286ms/step - loss: 0.0946 - accuracy: 0.9625\n",
            "Epoch 70/100\n",
            "4/4 [==============================] - 1s 248ms/step - loss: 0.0837 - accuracy: 0.9667\n",
            "Epoch 71/100\n",
            "4/4 [==============================] - 1s 249ms/step - loss: 0.0730 - accuracy: 0.9750\n",
            "Epoch 72/100\n",
            "4/4 [==============================] - 1s 246ms/step - loss: 0.0538 - accuracy: 0.9833\n",
            "Epoch 73/100\n",
            "4/4 [==============================] - 1s 250ms/step - loss: 0.0497 - accuracy: 0.9958\n",
            "Epoch 74/100\n",
            "4/4 [==============================] - 1s 247ms/step - loss: 0.0510 - accuracy: 0.9833\n",
            "Epoch 75/100\n",
            "4/4 [==============================] - 1s 248ms/step - loss: 0.0684 - accuracy: 0.9875\n",
            "Epoch 76/100\n",
            "4/4 [==============================] - 1s 246ms/step - loss: 0.0407 - accuracy: 0.9958\n",
            "Epoch 77/100\n",
            "4/4 [==============================] - 1s 249ms/step - loss: 0.0187 - accuracy: 1.0000\n",
            "Epoch 78/100\n",
            "4/4 [==============================] - 1s 247ms/step - loss: 0.0418 - accuracy: 0.9917\n",
            "Epoch 79/100\n",
            "4/4 [==============================] - 2s 459ms/step - loss: 0.0136 - accuracy: 1.0000\n",
            "Epoch 80/100\n",
            "4/4 [==============================] - 2s 450ms/step - loss: 0.0222 - accuracy: 0.9875\n",
            "Epoch 81/100\n",
            "4/4 [==============================] - 2s 391ms/step - loss: 0.0182 - accuracy: 1.0000\n",
            "Epoch 82/100\n",
            "4/4 [==============================] - 1s 260ms/step - loss: 0.0096 - accuracy: 1.0000\n",
            "Epoch 83/100\n",
            "4/4 [==============================] - 1s 261ms/step - loss: 0.0255 - accuracy: 0.9958\n",
            "Epoch 84/100\n",
            "4/4 [==============================] - 1s 256ms/step - loss: 0.0255 - accuracy: 0.9958\n",
            "Epoch 85/100\n",
            "4/4 [==============================] - 1s 257ms/step - loss: 0.0251 - accuracy: 0.9917\n",
            "Epoch 86/100\n",
            "4/4 [==============================] - 1s 253ms/step - loss: 0.0707 - accuracy: 0.9833\n",
            "Epoch 87/100\n",
            "4/4 [==============================] - 1s 254ms/step - loss: 0.0725 - accuracy: 0.9792\n",
            "Epoch 88/100\n",
            "4/4 [==============================] - 1s 257ms/step - loss: 0.0542 - accuracy: 0.9875\n",
            "Epoch 89/100\n",
            "4/4 [==============================] - 1s 252ms/step - loss: 0.0453 - accuracy: 0.9750\n",
            "Epoch 90/100\n",
            "4/4 [==============================] - 1s 252ms/step - loss: 0.0570 - accuracy: 0.9958\n",
            "Epoch 91/100\n",
            "4/4 [==============================] - 1s 402ms/step - loss: 0.0472 - accuracy: 0.9792\n",
            "Epoch 92/100\n",
            "4/4 [==============================] - 2s 458ms/step - loss: 0.0609 - accuracy: 0.9708\n",
            "Epoch 93/100\n",
            "4/4 [==============================] - 2s 459ms/step - loss: 0.0340 - accuracy: 0.9875\n",
            "Epoch 94/100\n",
            "4/4 [==============================] - 1s 250ms/step - loss: 0.0273 - accuracy: 0.9875\n",
            "Epoch 95/100\n",
            "4/4 [==============================] - 1s 255ms/step - loss: 0.0274 - accuracy: 0.9958\n",
            "Epoch 96/100\n",
            "4/4 [==============================] - 1s 252ms/step - loss: 0.0280 - accuracy: 0.9917\n",
            "Epoch 97/100\n",
            "4/4 [==============================] - 1s 249ms/step - loss: 0.0186 - accuracy: 0.9958\n",
            "Epoch 98/100\n",
            "4/4 [==============================] - 1s 252ms/step - loss: 0.0070 - accuracy: 1.0000\n",
            "Epoch 99/100\n",
            "4/4 [==============================] - 1s 253ms/step - loss: 0.0132 - accuracy: 0.9958\n",
            "Epoch 100/100\n",
            "4/4 [==============================] - 1s 263ms/step - loss: 0.0285 - accuracy: 0.9917\n"
          ]
        }
      ]
    },
    {
      "cell_type": "code",
      "source": [
        "model.save(\"/content/drive/MyDrive/flower.h5\")"
      ],
      "metadata": {
        "id": "FbFNgM4VudTS"
      },
      "execution_count": 18,
      "outputs": []
    },
    {
      "cell_type": "code",
      "source": [
        "model_1=load_model('/content/drive/MyDrive/flower.h5')"
      ],
      "metadata": {
        "id": "7S_r84bFvZnX"
      },
      "execution_count": 19,
      "outputs": []
    },
    {
      "cell_type": "code",
      "source": [
        "import matplotlib.pyplot as plt\n",
        "from keras.utils import load_img\n",
        "from keras.utils.image_utils import img_to_array\n",
        "import numpy as np\n",
        "vat = {1: 'Hoa Hồng',2:'Hoa Sen', 3:'Hoa Súng', 4:'Hoa Mơ',5:'Hoa Cúc', 6:'Hoa Cẫm Chướng'}\n",
        "img = load_img(\"/content/drive/MyDrive/Check AI/camchuong.jpg\",target_size=(30,40))\n",
        "plt.imshow(img)\n",
        "img = img_to_array(img)\n",
        "img=img.reshape(1,30,40,3)\n",
        "img = img.astype('float32')\n",
        "img =img/255\n",
        "result  = np.argmax(model.predict(img),axis=1)\n",
        "vat[result[0]]"
      ],
      "metadata": {
        "colab": {
          "base_uri": "https://localhost:8080/",
          "height": 466
        },
        "id": "FPM2Ks6dveYQ",
        "outputId": "50ab569b-db96-4e7f-b8cf-f57239bc3066"
      },
      "execution_count": 20,
      "outputs": [
        {
          "output_type": "stream",
          "name": "stdout",
          "text": [
            "1/1 [==============================] - 0s 23ms/step\n"
          ]
        },
        {
          "output_type": "execute_result",
          "data": {
            "text/plain": [
              "'Hoa Cẫm Chướng'"
            ],
            "application/vnd.google.colaboratory.intrinsic+json": {
              "type": "string"
            }
          },
          "metadata": {},
          "execution_count": 20
        },
        {
          "output_type": "display_data",
          "data": {
            "text/plain": [
              "<Figure size 640x480 with 1 Axes>"
            ],
            "image/png": "[encoded data removed]"
          },
          "metadata": {}
        }
      ]
    },
    {
      "cell_type": "code",
      "source": [
        "img = load_img(\"/content/drive/MyDrive/Check AI/hoamo1.jpg\",target_size=(30,40))\n",
        "plt.imshow(img)\n",
        "img = img_to_array(img)\n",
        "img=img.reshape(1,30,40,3)\n",
        "img = img.astype('float32')\n",
        "img =img/255\n",
        "result  = np.argmax(model.predict(img),axis=1)\n",
        "vat[result[0]]"
      ],
      "metadata": {
        "id": "4vLnjszCv8WY",
        "colab": {
          "base_uri": "https://localhost:8080/",
          "height": 466
        },
        "outputId": "c661f16c-bf48-4dea-e65d-388044905d5a"
      },
      "execution_count": 21,
      "outputs": [
        {
          "output_type": "stream",
          "name": "stdout",
          "text": [
            "1/1 [==============================] - 0s 24ms/step\n"
          ]
        },
        {
          "output_type": "execute_result",
          "data": {
            "text/plain": [
              "'Hoa Mơ'"
            ],
            "application/vnd.google.colaboratory.intrinsic+json": {
              "type": "string"
            }
          },
          "metadata": {},
          "execution_count": 21
        },
        {
          "output_type": "display_data",
          "data": {
            "text/plain": [
              "<Figure size 640x480 with 1 Axes>"
            ],
            "image/png": "[encoded data removed]"
          },
          "metadata": {}
        }
      ]
    },
    {
      "cell_type": "code",
      "source": [
        "img = load_img(\"/content/drive/MyDrive/Check AI/hoamo2.jpg\",target_size=(30,40))\n",
        "plt.imshow(img)\n",
        "img = img_to_array(img)\n",
        "img=img.reshape(1,30,40,3)\n",
        "img = img.astype('float32')\n",
        "img =img/255\n",
        "result  = np.argmax(model.predict(img),axis=1)\n",
        "vat[result[0]]"
      ],
      "metadata": {
        "id": "Trb6fHGuovmo",
        "colab": {
          "base_uri": "https://localhost:8080/",
          "height": 466
        },
        "outputId": "d308828d-dfbc-4bd7-b85e-95b7f7d43416"
      },
      "execution_count": 22,
      "outputs": [
        {
          "output_type": "stream",
          "name": "stdout",
          "text": [
            "1/1 [==============================] - 0s 30ms/step\n"
          ]
        },
        {
          "output_type": "execute_result",
          "data": {
            "text/plain": [
              "'Hoa Cúc'"
            ],
            "application/vnd.google.colaboratory.intrinsic+json": {
              "type": "string"
            }
          },
          "metadata": {},
          "execution_count": 22
        },
        {
          "output_type": "display_data",
          "data": {
            "text/plain": [
              "<Figure size 640x480 with 1 Axes>"
            ],
            "image/png": "[encoded data removed]"
          },
          "metadata": {}
        }
      ]
    }
  ]
}