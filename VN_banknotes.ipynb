{
  "nbformat": 4,
  "nbformat_minor": 0,
  "metadata": {
    "colab": {
      "provenance": [],
      "include_colab_link": true
    },
    "kernelspec": {
      "name": "python3",
      "display_name": "Python 3"
    },
    "language_info": {
      "name": "python"
    }
  },
  "cells": [
    {
      "cell_type": "markdown",
      "metadata": {
        "id": "view-in-github",
        "colab_type": "text"
      },
      "source": [
        "<a href=\"https://colab.research.google.com/github/DangKhoa8422/CNN/blob/main/VN_banknotes.ipynb\" target=\"_parent\"><img src=\"https://colab.research.google.com/assets/colab-badge.svg\" alt=\"Open In Colab\"/></a>"
      ]
    },
    {
      "cell_type": "markdown",
      "source": [
        "VN BANKNOTES"
      ],
      "metadata": {
        "id": "wtorSpb2ny7t"
      }
    },
    {
      "cell_type": "code",
      "source": [
        "from numpy import asarray\n",
        "from os import listdir\n",
        "from numpy import asarray,save\n",
        "from keras.utils import img_to_array,load_img\n",
        "from google.colab import drive\n",
        "drive.mount('/content/drive')\n",
        "from keras.models import load_model\n",
        "\n",
        "folder = '/content/drive/MyDrive/Tiền/'\n",
        "photos, labels=list (),list()\n",
        "for file in listdir(folder):\n",
        "  output=0.0\n",
        "  if file.startswith ('5k'):\n",
        "    output=1.0\n",
        "  if file.startswith ('10k'):\n",
        "    output=2.0\n",
        "  if file.startswith ('20k'):\n",
        "    output = 3.0\n",
        "  if file.startswith ('50k'):\n",
        "    output = 4.0\n",
        "  if file.startswith ('100k'):\n",
        "    output = 5.0\n",
        "  if file.startswith ('500k'):\n",
        "    output = 6.0\n",
        "  img =load_img(folder+ file,target_size=(30,40))\n",
        "  photo = img_to_array(img)\n",
        "  photos.append(photo)\n",
        "  labels.append(output)\n",
        "photos =asarray(photos)\n",
        "labels =asarray(labels)\n",
        "print(photos.shape,labels.shape)\n",
        "save('money_photos.npy',photos)\n",
        "save('money_labels.npy',labels)"
      ],
      "metadata": {
        "colab": {
          "base_uri": "https://localhost:8080/"
        },
        "id": "j1YLxdXpDk2K",
        "outputId": "41f9083d-472f-4c37-e0b0-5ab7064ce8d0"
      },
      "execution_count": null,
      "outputs": [
        {
          "output_type": "stream",
          "name": "stdout",
          "text": [
            "Mounted at /content/drive\n",
            "(129, 30, 40, 3) (129,)\n"
          ]
        }
      ]
    },
    {
      "cell_type": "code",
      "source": [
        "import numpy as np\n",
        "x_train = np.load('/content/money_photos.npy')\n",
        "y_train = np.load('/content/money_labels.npy')\n",
        "print(x_train.shape)\n",
        "print(y_train.shape)\n",
        "x=x_train\n",
        "y=y_train\n",
        "from keras.utils import to_categorical\n",
        "x_train = x_train.astype('float32')/255\n",
        "y_train = to_categorical(y_train,100)"
      ],
      "metadata": {
        "colab": {
          "base_uri": "https://localhost:8080/"
        },
        "id": "HC9JgCf45bgZ",
        "outputId": "09647867-87aa-462d-b8a5-8680d826566b"
      },
      "execution_count": null,
      "outputs": [
        {
          "output_type": "stream",
          "name": "stdout",
          "text": [
            "(129, 30, 40, 3)\n",
            "(129,)\n"
          ]
        }
      ]
    },
    {
      "cell_type": "code",
      "source": [
        "from keras.backend import flatten\n",
        "from keras.models import Sequential\n",
        "from keras.layers import Dense,Dropout,Flatten,Conv2D,MaxPooling2D,Normalization,LeakyReLU\n",
        "from keras.optimizers import Adam\n",
        "#32 lần\n",
        "model = Sequential()\n",
        "model.add(Conv2D(32,kernel_size = (3,3),activation = 'relu',input_shape=(30,40,3),padding='Same'))\n",
        "model.add(MaxPooling2D((2,2),padding='same'))\n",
        "model.add(Dropout(0.25))\n",
        "\n",
        "#64 lần\n",
        "model.add(Conv2D(64,(3,3),activation ='relu',padding ='same'))\n",
        "model.add(MaxPooling2D((2,2),padding='same'))\n",
        "model.add(Dropout(0.25))\n",
        "\n",
        "#128 lần\n",
        "model.add(Conv2D(128,(3,3),activation ='relu',padding ='same'))\n",
        "model.add(MaxPooling2D((2,2),padding='same'))\n",
        "model.add(Dropout(0.25))\n",
        "\n",
        "#256 lần\n",
        "model.add(Conv2D(256,(3,3),activation ='relu',padding ='same'))\n",
        "model.add(MaxPooling2D((2,2),padding='same'))\n",
        "model.add(Dropout(0.25))\n",
        "\n",
        "model.add(Flatten())\n",
        "model.add(Dense(256,activation='relu'))\n",
        "model.add(LeakyReLU(alpha=0.1))\n",
        "model.add(Dense(100,activation='softmax'))\n",
        "\n",
        "from keras.losses import categorical_crossentropy\n",
        "model.compile(loss='categorical_crossentropy',optimizer=Adam(),metrics=['accuracy'])\n",
        "model.summary()\n",
        "train = model.fit(x_train,y_train,epochs=150,batch_size=64,verbose=1)"
      ],
      "metadata": {
        "colab": {
          "base_uri": "https://localhost:8080/"
        },
        "id": "NJsu-7mj89JF",
        "outputId": "8ca262ba-2d3a-4ed7-aaa5-b2cff0348669"
      },
      "execution_count": null,
      "outputs": [
        {
          "output_type": "stream",
          "name": "stdout",
          "text": [
            "Model: \"sequential\"\n",
            "_________________________________________________________________\n",
            " Layer (type)                Output Shape              Param #   \n",
            "=================================================================\n",
            " conv2d (Conv2D)             (None, 30, 40, 32)        896       \n",
            "                                                                 \n",
            " max_pooling2d (MaxPooling2D  (None, 15, 20, 32)       0         \n",
            " )                                                               \n",
            "                                                                 \n",
            " dropout (Dropout)           (None, 15, 20, 32)        0         \n",
            "                                                                 \n",
            " conv2d_1 (Conv2D)           (None, 15, 20, 64)        18496     \n",
            "                                                                 \n",
            " max_pooling2d_1 (MaxPooling  (None, 8, 10, 64)        0         \n",
            " 2D)                                                             \n",
            "                                                                 \n",
            " dropout_1 (Dropout)         (None, 8, 10, 64)         0         \n",
            "                                                                 \n",
            " conv2d_2 (Conv2D)           (None, 8, 10, 128)        73856     \n",
            "                                                                 \n",
            " max_pooling2d_2 (MaxPooling  (None, 4, 5, 128)        0         \n",
            " 2D)                                                             \n",
            "                                                                 \n",
            " dropout_2 (Dropout)         (None, 4, 5, 128)         0         \n",
            "                                                                 \n",
            " conv2d_3 (Conv2D)           (None, 4, 5, 256)         295168    \n",
            "                                                                 \n",
            " max_pooling2d_3 (MaxPooling  (None, 2, 3, 256)        0         \n",
            " 2D)                                                             \n",
            "                                                                 \n",
            " dropout_3 (Dropout)         (None, 2, 3, 256)         0         \n",
            "                                                                 \n",
            " flatten (Flatten)           (None, 1536)              0         \n",
            "                                                                 \n",
            " dense (Dense)               (None, 256)               393472    \n",
            "                                                                 \n",
            " leaky_re_lu (LeakyReLU)     (None, 256)               0         \n",
            "                                                                 \n",
            " dense_1 (Dense)             (None, 100)               25700     \n",
            "                                                                 \n",
            "=================================================================\n",
            "Total params: 807,588\n",
            "Trainable params: 807,588\n",
            "Non-trainable params: 0\n",
            "_________________________________________________________________\n",
            "Epoch 1/150\n",
            "3/3 [==============================] - 2s 158ms/step - loss: 4.1914 - accuracy: 0.1008\n",
            "Epoch 2/150\n",
            "3/3 [==============================] - 1s 138ms/step - loss: 3.4069 - accuracy: 0.1783\n",
            "Epoch 3/150\n",
            "3/3 [==============================] - 1s 149ms/step - loss: 2.6679 - accuracy: 0.1550\n",
            "Epoch 4/150\n",
            "3/3 [==============================] - 1s 136ms/step - loss: 2.7057 - accuracy: 0.1550\n",
            "Epoch 5/150\n",
            "3/3 [==============================] - 1s 144ms/step - loss: 2.5199 - accuracy: 0.1550\n",
            "Epoch 6/150\n",
            "3/3 [==============================] - 1s 139ms/step - loss: 2.2692 - accuracy: 0.1085\n",
            "Epoch 7/150\n",
            "3/3 [==============================] - 1s 136ms/step - loss: 2.1303 - accuracy: 0.1705\n",
            "Epoch 8/150\n",
            "3/3 [==============================] - 1s 140ms/step - loss: 2.1117 - accuracy: 0.1550\n",
            "Epoch 9/150\n",
            "3/3 [==============================] - 1s 142ms/step - loss: 1.9440 - accuracy: 0.1550\n",
            "Epoch 10/150\n",
            "3/3 [==============================] - 1s 137ms/step - loss: 1.9466 - accuracy: 0.1628\n",
            "Epoch 11/150\n",
            "3/3 [==============================] - 1s 139ms/step - loss: 1.9895 - accuracy: 0.1628\n",
            "Epoch 12/150\n",
            "3/3 [==============================] - 1s 138ms/step - loss: 2.0656 - accuracy: 0.1550\n",
            "Epoch 13/150\n",
            "3/3 [==============================] - 1s 136ms/step - loss: 2.0989 - accuracy: 0.1550\n",
            "Epoch 14/150\n",
            "3/3 [==============================] - 1s 148ms/step - loss: 2.0396 - accuracy: 0.1550\n",
            "Epoch 15/150\n",
            "3/3 [==============================] - 1s 238ms/step - loss: 2.0102 - accuracy: 0.1550\n",
            "Epoch 16/150\n",
            "3/3 [==============================] - 1s 256ms/step - loss: 2.0012 - accuracy: 0.2481\n",
            "Epoch 17/150\n",
            "3/3 [==============================] - 1s 253ms/step - loss: 1.9042 - accuracy: 0.2326\n",
            "Epoch 18/150\n",
            "3/3 [==============================] - 1s 255ms/step - loss: 1.8558 - accuracy: 0.2248\n",
            "Epoch 19/150\n",
            "3/3 [==============================] - 1s 240ms/step - loss: 1.8461 - accuracy: 0.1783\n",
            "Epoch 20/150\n",
            "3/3 [==============================] - 1s 145ms/step - loss: 1.8354 - accuracy: 0.2868\n",
            "Epoch 21/150\n",
            "3/3 [==============================] - 1s 137ms/step - loss: 1.8369 - accuracy: 0.2403\n",
            "Epoch 22/150\n",
            "3/3 [==============================] - 1s 150ms/step - loss: 1.8080 - accuracy: 0.3101\n",
            "Epoch 23/150\n",
            "3/3 [==============================] - 1s 143ms/step - loss: 1.8818 - accuracy: 0.2093\n",
            "Epoch 24/150\n",
            "3/3 [==============================] - 1s 137ms/step - loss: 1.8806 - accuracy: 0.1938\n",
            "Epoch 25/150\n",
            "3/3 [==============================] - 1s 147ms/step - loss: 1.8605 - accuracy: 0.2636\n",
            "Epoch 26/150\n",
            "3/3 [==============================] - 1s 144ms/step - loss: 1.8544 - accuracy: 0.2016\n",
            "Epoch 27/150\n",
            "3/3 [==============================] - 1s 148ms/step - loss: 1.8688 - accuracy: 0.1628\n",
            "Epoch 28/150\n",
            "3/3 [==============================] - 1s 138ms/step - loss: 1.7993 - accuracy: 0.2403\n",
            "Epoch 29/150\n",
            "3/3 [==============================] - 1s 144ms/step - loss: 1.7450 - accuracy: 0.3256\n",
            "Epoch 30/150\n",
            "3/3 [==============================] - 1s 140ms/step - loss: 1.7127 - accuracy: 0.3178\n",
            "Epoch 31/150\n",
            "3/3 [==============================] - 1s 141ms/step - loss: 1.7929 - accuracy: 0.2481\n",
            "Epoch 32/150\n",
            "3/3 [==============================] - 1s 141ms/step - loss: 1.7686 - accuracy: 0.2248\n",
            "Epoch 33/150\n",
            "3/3 [==============================] - 1s 135ms/step - loss: 1.6368 - accuracy: 0.3023\n",
            "Epoch 34/150\n",
            "3/3 [==============================] - 1s 141ms/step - loss: 1.6404 - accuracy: 0.3023\n",
            "Epoch 35/150\n",
            "3/3 [==============================] - 1s 140ms/step - loss: 1.5853 - accuracy: 0.3953\n",
            "Epoch 36/150\n",
            "3/3 [==============================] - 1s 136ms/step - loss: 1.6266 - accuracy: 0.3566\n",
            "Epoch 37/150\n",
            "3/3 [==============================] - 1s 137ms/step - loss: 1.7158 - accuracy: 0.2868\n",
            "Epoch 38/150\n",
            "3/3 [==============================] - 1s 214ms/step - loss: 1.4575 - accuracy: 0.3876\n",
            "Epoch 39/150\n",
            "3/3 [==============================] - 1s 230ms/step - loss: 1.6269 - accuracy: 0.4031\n",
            "Epoch 40/150\n",
            "3/3 [==============================] - 1s 252ms/step - loss: 1.4908 - accuracy: 0.4341\n",
            "Epoch 41/150\n",
            "3/3 [==============================] - 1s 245ms/step - loss: 1.4125 - accuracy: 0.4186\n",
            "Epoch 42/150\n",
            "3/3 [==============================] - 1s 245ms/step - loss: 1.3673 - accuracy: 0.4574\n",
            "Epoch 43/150\n",
            "3/3 [==============================] - 1s 203ms/step - loss: 1.4716 - accuracy: 0.4341\n",
            "Epoch 44/150\n",
            "3/3 [==============================] - 1s 143ms/step - loss: 1.4526 - accuracy: 0.4109\n",
            "Epoch 45/150\n",
            "3/3 [==============================] - 1s 139ms/step - loss: 1.1811 - accuracy: 0.4419\n",
            "Epoch 46/150\n",
            "3/3 [==============================] - 1s 143ms/step - loss: 1.2173 - accuracy: 0.5194\n",
            "Epoch 47/150\n",
            "3/3 [==============================] - 1s 140ms/step - loss: 1.2419 - accuracy: 0.4496\n",
            "Epoch 48/150\n",
            "3/3 [==============================] - 1s 146ms/step - loss: 1.2303 - accuracy: 0.4961\n",
            "Epoch 49/150\n",
            "3/3 [==============================] - 1s 136ms/step - loss: 1.1792 - accuracy: 0.6047\n",
            "Epoch 50/150\n",
            "3/3 [==============================] - 1s 141ms/step - loss: 1.2436 - accuracy: 0.4884\n",
            "Epoch 51/150\n",
            "3/3 [==============================] - 1s 146ms/step - loss: 1.3061 - accuracy: 0.4729\n",
            "Epoch 52/150\n",
            "3/3 [==============================] - 1s 139ms/step - loss: 1.1479 - accuracy: 0.5659\n",
            "Epoch 53/150\n",
            "3/3 [==============================] - 1s 151ms/step - loss: 1.1806 - accuracy: 0.5116\n",
            "Epoch 54/150\n",
            "3/3 [==============================] - 1s 141ms/step - loss: 1.0995 - accuracy: 0.5659\n",
            "Epoch 55/150\n",
            "3/3 [==============================] - 1s 148ms/step - loss: 1.0815 - accuracy: 0.5116\n",
            "Epoch 56/150\n",
            "3/3 [==============================] - 1s 216ms/step - loss: 1.2162 - accuracy: 0.5116\n",
            "Epoch 57/150\n",
            "3/3 [==============================] - 1s 137ms/step - loss: 1.2186 - accuracy: 0.4884\n",
            "Epoch 58/150\n",
            "3/3 [==============================] - 1s 231ms/step - loss: 1.3825 - accuracy: 0.4961\n",
            "Epoch 59/150\n",
            "3/3 [==============================] - 1s 460ms/step - loss: 1.1410 - accuracy: 0.5659\n",
            "Epoch 60/150\n",
            "3/3 [==============================] - 1s 245ms/step - loss: 1.1289 - accuracy: 0.5969\n",
            "Epoch 61/150\n",
            "3/3 [==============================] - 1s 259ms/step - loss: 1.1801 - accuracy: 0.5659\n",
            "Epoch 62/150\n",
            "3/3 [==============================] - 1s 359ms/step - loss: 1.0536 - accuracy: 0.6202\n",
            "Epoch 63/150\n",
            "3/3 [==============================] - 1s 315ms/step - loss: 1.1579 - accuracy: 0.5659\n",
            "Epoch 64/150\n",
            "3/3 [==============================] - 1s 174ms/step - loss: 1.2250 - accuracy: 0.4574\n",
            "Epoch 65/150\n",
            "3/3 [==============================] - 1s 169ms/step - loss: 1.6781 - accuracy: 0.4031\n",
            "Epoch 66/150\n",
            "3/3 [==============================] - 1s 165ms/step - loss: 1.0054 - accuracy: 0.6512\n",
            "Epoch 67/150\n",
            "3/3 [==============================] - 1s 213ms/step - loss: 1.2003 - accuracy: 0.5349\n",
            "Epoch 68/150\n",
            "3/3 [==============================] - 1s 204ms/step - loss: 1.0561 - accuracy: 0.5736\n",
            "Epoch 69/150\n",
            "3/3 [==============================] - 1s 222ms/step - loss: 1.1132 - accuracy: 0.5814\n",
            "Epoch 70/150\n",
            "3/3 [==============================] - 1s 237ms/step - loss: 0.9674 - accuracy: 0.6589\n",
            "Epoch 71/150\n",
            "3/3 [==============================] - 1s 139ms/step - loss: 1.0003 - accuracy: 0.6667\n",
            "Epoch 72/150\n",
            "3/3 [==============================] - 1s 137ms/step - loss: 1.0667 - accuracy: 0.5349\n",
            "Epoch 73/150\n",
            "3/3 [==============================] - 1s 141ms/step - loss: 1.0681 - accuracy: 0.5891\n",
            "Epoch 74/150\n",
            "3/3 [==============================] - 1s 149ms/step - loss: 1.0356 - accuracy: 0.6512\n",
            "Epoch 75/150\n",
            "3/3 [==============================] - 1s 136ms/step - loss: 0.9964 - accuracy: 0.6279\n",
            "Epoch 76/150\n",
            "3/3 [==============================] - 1s 148ms/step - loss: 0.9801 - accuracy: 0.6744\n",
            "Epoch 77/150\n",
            "3/3 [==============================] - 1s 143ms/step - loss: 1.0760 - accuracy: 0.5736\n",
            "Epoch 78/150\n",
            "3/3 [==============================] - 1s 146ms/step - loss: 1.0696 - accuracy: 0.5581\n",
            "Epoch 79/150\n",
            "3/3 [==============================] - 1s 262ms/step - loss: 1.1391 - accuracy: 0.4806\n",
            "Epoch 80/150\n",
            "3/3 [==============================] - 1s 257ms/step - loss: 0.9792 - accuracy: 0.5814\n",
            "Epoch 81/150\n",
            "3/3 [==============================] - 1s 242ms/step - loss: 1.0440 - accuracy: 0.5659\n",
            "Epoch 82/150\n",
            "3/3 [==============================] - 1s 258ms/step - loss: 0.9401 - accuracy: 0.6899\n",
            "Epoch 83/150\n",
            "3/3 [==============================] - 1s 260ms/step - loss: 0.8716 - accuracy: 0.7132\n",
            "Epoch 84/150\n",
            "3/3 [==============================] - 1s 139ms/step - loss: 0.8946 - accuracy: 0.6822\n",
            "Epoch 85/150\n",
            "3/3 [==============================] - 1s 147ms/step - loss: 0.8426 - accuracy: 0.7442\n",
            "Epoch 86/150\n",
            "3/3 [==============================] - 1s 138ms/step - loss: 0.8538 - accuracy: 0.7287\n",
            "Epoch 87/150\n",
            "3/3 [==============================] - 1s 145ms/step - loss: 1.0261 - accuracy: 0.5891\n",
            "Epoch 88/150\n",
            "3/3 [==============================] - 1s 140ms/step - loss: 0.9591 - accuracy: 0.6357\n",
            "Epoch 89/150\n",
            "3/3 [==============================] - 1s 144ms/step - loss: 0.9429 - accuracy: 0.6357\n",
            "Epoch 90/150\n",
            "3/3 [==============================] - 1s 140ms/step - loss: 1.2246 - accuracy: 0.5659\n",
            "Epoch 91/150\n",
            "3/3 [==============================] - 1s 136ms/step - loss: 0.8921 - accuracy: 0.6822\n",
            "Epoch 92/150\n",
            "3/3 [==============================] - 1s 138ms/step - loss: 1.1750 - accuracy: 0.6124\n",
            "Epoch 93/150\n",
            "3/3 [==============================] - 1s 140ms/step - loss: 0.9118 - accuracy: 0.6899\n",
            "Epoch 94/150\n",
            "3/3 [==============================] - 1s 140ms/step - loss: 0.8265 - accuracy: 0.7442\n",
            "Epoch 95/150\n",
            "3/3 [==============================] - 1s 137ms/step - loss: 0.9956 - accuracy: 0.5969\n",
            "Epoch 96/150\n",
            "3/3 [==============================] - 1s 138ms/step - loss: 1.1597 - accuracy: 0.5581\n",
            "Epoch 97/150\n",
            "3/3 [==============================] - 1s 136ms/step - loss: 0.9459 - accuracy: 0.7054\n",
            "Epoch 98/150\n",
            "3/3 [==============================] - 1s 145ms/step - loss: 0.9274 - accuracy: 0.7054\n",
            "Epoch 99/150\n",
            "3/3 [==============================] - 1s 139ms/step - loss: 0.8136 - accuracy: 0.6977\n",
            "Epoch 100/150\n",
            "3/3 [==============================] - 1s 153ms/step - loss: 0.8869 - accuracy: 0.6744\n",
            "Epoch 101/150\n",
            "3/3 [==============================] - 1s 141ms/step - loss: 0.8510 - accuracy: 0.6899\n",
            "Epoch 102/150\n",
            "3/3 [==============================] - 1s 222ms/step - loss: 0.7936 - accuracy: 0.7132\n",
            "Epoch 103/150\n",
            "3/3 [==============================] - 1s 265ms/step - loss: 0.6689 - accuracy: 0.7752\n",
            "Epoch 104/150\n",
            "3/3 [==============================] - 1s 254ms/step - loss: 0.7966 - accuracy: 0.7519\n",
            "Epoch 105/150\n",
            "3/3 [==============================] - 1s 240ms/step - loss: 0.7701 - accuracy: 0.7364\n",
            "Epoch 106/150\n",
            "3/3 [==============================] - 1s 238ms/step - loss: 0.7776 - accuracy: 0.7287\n",
            "Epoch 107/150\n",
            "3/3 [==============================] - 1s 170ms/step - loss: 0.5900 - accuracy: 0.8295\n",
            "Epoch 108/150\n",
            "3/3 [==============================] - 1s 143ms/step - loss: 0.5802 - accuracy: 0.7829\n",
            "Epoch 109/150\n",
            "3/3 [==============================] - 1s 142ms/step - loss: 0.8066 - accuracy: 0.7287\n",
            "Epoch 110/150\n",
            "3/3 [==============================] - 1s 138ms/step - loss: 0.5827 - accuracy: 0.8527\n",
            "Epoch 111/150\n",
            "3/3 [==============================] - 1s 144ms/step - loss: 0.8441 - accuracy: 0.7287\n",
            "Epoch 112/150\n",
            "3/3 [==============================] - 1s 141ms/step - loss: 0.7442 - accuracy: 0.7597\n",
            "Epoch 113/150\n",
            "3/3 [==============================] - 1s 145ms/step - loss: 0.8985 - accuracy: 0.6434\n",
            "Epoch 114/150\n",
            "3/3 [==============================] - 1s 137ms/step - loss: 0.8963 - accuracy: 0.6744\n",
            "Epoch 115/150\n",
            "3/3 [==============================] - 1s 143ms/step - loss: 0.7088 - accuracy: 0.7907\n",
            "Epoch 116/150\n",
            "3/3 [==============================] - 1s 139ms/step - loss: 0.6639 - accuracy: 0.7597\n",
            "Epoch 117/150\n",
            "3/3 [==============================] - 1s 138ms/step - loss: 0.5711 - accuracy: 0.8450\n",
            "Epoch 118/150\n",
            "3/3 [==============================] - 1s 141ms/step - loss: 0.6164 - accuracy: 0.8217\n",
            "Epoch 119/150\n",
            "3/3 [==============================] - 1s 137ms/step - loss: 0.6141 - accuracy: 0.7907\n",
            "Epoch 120/150\n",
            "3/3 [==============================] - 1s 139ms/step - loss: 0.6837 - accuracy: 0.7364\n",
            "Epoch 121/150\n",
            "3/3 [==============================] - 1s 142ms/step - loss: 0.7284 - accuracy: 0.6899\n",
            "Epoch 122/150\n",
            "3/3 [==============================] - 1s 137ms/step - loss: 0.7287 - accuracy: 0.7597\n",
            "Epoch 123/150\n",
            "3/3 [==============================] - 1s 138ms/step - loss: 1.0489 - accuracy: 0.6899\n",
            "Epoch 124/150\n",
            "3/3 [==============================] - 1s 149ms/step - loss: 0.5307 - accuracy: 0.8527\n",
            "Epoch 125/150\n",
            "3/3 [==============================] - 1s 215ms/step - loss: 0.6982 - accuracy: 0.7442\n",
            "Epoch 126/150\n",
            "3/3 [==============================] - 1s 258ms/step - loss: 0.5182 - accuracy: 0.7829\n",
            "Epoch 127/150\n",
            "3/3 [==============================] - 1s 245ms/step - loss: 0.5014 - accuracy: 0.8140\n",
            "Epoch 128/150\n",
            "3/3 [==============================] - 1s 254ms/step - loss: 0.5581 - accuracy: 0.7907\n",
            "Epoch 129/150\n",
            "3/3 [==============================] - 1s 246ms/step - loss: 0.5130 - accuracy: 0.8062\n",
            "Epoch 130/150\n",
            "3/3 [==============================] - 1s 161ms/step - loss: 0.4564 - accuracy: 0.8527\n",
            "Epoch 131/150\n",
            "3/3 [==============================] - 1s 136ms/step - loss: 0.8606 - accuracy: 0.6434\n",
            "Epoch 132/150\n",
            "3/3 [==============================] - 1s 133ms/step - loss: 1.0181 - accuracy: 0.5891\n",
            "Epoch 133/150\n",
            "3/3 [==============================] - 1s 136ms/step - loss: 0.6766 - accuracy: 0.7674\n",
            "Epoch 134/150\n",
            "3/3 [==============================] - 1s 148ms/step - loss: 0.9526 - accuracy: 0.6124\n",
            "Epoch 135/150\n",
            "3/3 [==============================] - 1s 140ms/step - loss: 0.9058 - accuracy: 0.6744\n",
            "Epoch 136/150\n",
            "3/3 [==============================] - 1s 138ms/step - loss: 0.7307 - accuracy: 0.6977\n",
            "Epoch 137/150\n",
            "3/3 [==============================] - 1s 144ms/step - loss: 0.8042 - accuracy: 0.7054\n",
            "Epoch 138/150\n",
            "3/3 [==============================] - 1s 140ms/step - loss: 0.6238 - accuracy: 0.7209\n",
            "Epoch 139/150\n",
            "3/3 [==============================] - 1s 148ms/step - loss: 1.1474 - accuracy: 0.5039\n",
            "Epoch 140/150\n",
            "3/3 [==============================] - 1s 145ms/step - loss: 0.8177 - accuracy: 0.6357\n",
            "Epoch 141/150\n",
            "3/3 [==============================] - 1s 142ms/step - loss: 0.7970 - accuracy: 0.6512\n",
            "Epoch 142/150\n",
            "3/3 [==============================] - 1s 152ms/step - loss: 0.5734 - accuracy: 0.8450\n",
            "Epoch 143/150\n",
            "3/3 [==============================] - 1s 141ms/step - loss: 0.5531 - accuracy: 0.7907\n",
            "Epoch 144/150\n",
            "3/3 [==============================] - 1s 141ms/step - loss: 0.4766 - accuracy: 0.8682\n",
            "Epoch 145/150\n",
            "3/3 [==============================] - 1s 138ms/step - loss: 0.7399 - accuracy: 0.7132\n",
            "Epoch 146/150\n",
            "3/3 [==============================] - 1s 141ms/step - loss: 0.4549 - accuracy: 0.8682\n",
            "Epoch 147/150\n",
            "3/3 [==============================] - 1s 140ms/step - loss: 0.8065 - accuracy: 0.6744\n",
            "Epoch 148/150\n",
            "3/3 [==============================] - 1s 192ms/step - loss: 0.6496 - accuracy: 0.7442\n",
            "Epoch 149/150\n",
            "3/3 [==============================] - 1s 253ms/step - loss: 0.3996 - accuracy: 0.8450\n",
            "Epoch 150/150\n",
            "3/3 [==============================] - 1s 240ms/step - loss: 0.4640 - accuracy: 0.8295\n"
          ]
        }
      ]
    },
    {
      "cell_type": "code",
      "source": [
        "model.save(\"/content/VN_money.h5\")"
      ],
      "metadata": {
        "id": "_lyTB32FplTF"
      },
      "execution_count": null,
      "outputs": []
    },
    {
      "cell_type": "code",
      "source": [
        "model_1=load_model('/content/VN_money.h5')"
      ],
      "metadata": {
        "id": "yaMCvs6bqq4T"
      },
      "execution_count": null,
      "outputs": []
    },
    {
      "cell_type": "code",
      "source": [
        "import matplotlib.pyplot as plt\n",
        "from keras.utils import load_img\n",
        "from keras.utils.image_utils import img_to_array\n",
        "import numpy as np\n",
        "vat = {1: '5k',2:'10k', 3:'20k', 4:'50k',5:'100k', 6:'500k'}\n",
        "img = load_img(\"/content/drive/MyDrive/Check AI/500nghin.jpg\",target_size=(30,40))\n",
        "plt.imshow(img)\n",
        "img = img_to_array(img)\n",
        "img=img.reshape(1,30,40,3)\n",
        "img = img.astype('float32')\n",
        "img =img/255\n",
        "result  = np.argmax(model.predict(img),axis=1)\n",
        "vat[result[0]]"
      ],
      "metadata": {
        "id": "MhVbIQWRGSNk",
        "colab": {
          "base_uri": "https://localhost:8080/",
          "height": 466
        },
        "outputId": "103e105f-e2a6-4e57-8f19-64a90258c32d"
      },
      "execution_count": null,
      "outputs": [
        {
          "output_type": "stream",
          "name": "stdout",
          "text": [
            "1/1 [==============================] - 0s 147ms/step\n"
          ]
        },
        {
          "output_type": "execute_result",
          "data": {
            "text/plain": [
              "'500k'"
            ],
            "application/vnd.google.colaboratory.intrinsic+json": {
              "type": "string"
            }
          },
          "metadata": {},
          "execution_count": 9
        },
        {
          "output_type": "display_data",
          "data": {
            "text/plain": [
              "<Figure size 640x480 with 1 Axes>"
            ],
            "image/png": "[encoded data removed]"
          },
          "metadata": {}
        }
      ]
    },
    {
      "cell_type": "code",
      "source": [
        "img = load_img(\"/content/drive/MyDrive/Check AI/20k.jpg\",target_size=(30,40))\n",
        "plt.imshow(img)\n",
        "img = img_to_array(img)\n",
        "img=img.reshape(1,30,40,3)\n",
        "img = img.astype('float32')\n",
        "img =img/255\n",
        "result  = np.argmax(model.predict(img),axis=1)\n",
        "vat[result[0]]"
      ],
      "metadata": {
        "id": "5oH5cS3t-I3L",
        "colab": {
          "base_uri": "https://localhost:8080/",
          "height": 466
        },
        "outputId": "1cad55fb-e99a-44a4-cc3c-9aefceaed68e"
      },
      "execution_count": null,
      "outputs": [
        {
          "output_type": "stream",
          "name": "stdout",
          "text": [
            "1/1 [==============================] - 0s 74ms/step\n"
          ]
        },
        {
          "output_type": "execute_result",
          "data": {
            "text/plain": [
              "'20k'"
            ],
            "application/vnd.google.colaboratory.intrinsic+json": {
              "type": "string"
            }
          },
          "metadata": {},
          "execution_count": 10
        },
        {
          "output_type": "display_data",
          "data": {
            "text/plain": [
              "<Figure size 640x480 with 1 Axes>"
            ],
            "image/png": "[encoded data removed]"
          },
          "metadata": {}
        }
      ]
    },
    {
      "cell_type": "code",
      "source": [
        "img = load_img(\"/content/drive/MyDrive/Check AI/5k.jpg\",target_size=(30,40))\n",
        "plt.imshow(img)\n",
        "img = img_to_array(img)\n",
        "img=img.reshape(1,30,40,3)\n",
        "img = img.astype('float32')\n",
        "img =img/255\n",
        "result  = np.argmax(model.predict(img),axis=1)\n",
        "vat[result[0]]"
      ],
      "metadata": {
        "colab": {
          "base_uri": "https://localhost:8080/",
          "height": 466
        },
        "id": "aU1rCodllDFD",
        "outputId": "855f63ac-d9a2-45d1-fa2d-7a16fc4dd329"
      },
      "execution_count": null,
      "outputs": [
        {
          "output_type": "stream",
          "name": "stdout",
          "text": [
            "1/1 [==============================] - 0s 35ms/step\n"
          ]
        },
        {
          "output_type": "execute_result",
          "data": {
            "text/plain": [
              "'5k'"
            ],
            "application/vnd.google.colaboratory.intrinsic+json": {
              "type": "string"
            }
          },
          "metadata": {},
          "execution_count": 11
        },
        {
          "output_type": "display_data",
          "data": {
            "text/plain": [
              "<Figure size 640x480 with 1 Axes>"
            ],
            "image/png": "[encoded data removed]"
          },
          "metadata": {}
        }
      ]
    },
    {
      "cell_type": "code",
      "source": [
        "img = load_img(\"/content/drive/MyDrive/Check AI/100k.jpg\",target_size=(30,40))\n",
        "plt.imshow(img)\n",
        "img = img_to_array(img)\n",
        "img=img.reshape(1,30,40,3)\n",
        "img = img.astype('float32')\n",
        "img =img/255\n",
        "result  = np.argmax(model.predict(img),axis=1)\n",
        "vat[result[0]]"
      ],
      "metadata": {
        "colab": {
          "base_uri": "https://localhost:8080/",
          "height": 466
        },
        "id": "6DzYTX-tlE_S",
        "outputId": "fbc25240-c621-476f-d655-3e6deb1ce94d"
      },
      "execution_count": null,
      "outputs": [
        {
          "output_type": "stream",
          "name": "stdout",
          "text": [
            "1/1 [==============================] - 0s 96ms/step\n"
          ]
        },
        {
          "output_type": "execute_result",
          "data": {
            "text/plain": [
              "'10k'"
            ],
            "application/vnd.google.colaboratory.intrinsic+json": {
              "type": "string"
            }
          },
          "metadata": {},
          "execution_count": 12
        },
        {
          "output_type": "display_data",
          "data": {
            "text/plain": [
              "<Figure size 640x480 with 1 Axes>"
            ],
            "image/png": "[encoded data removed]"
          },
          "metadata": {}
        }
      ]
    },
    {
      "cell_type": "code",
      "source": [],
      "metadata": {
        "id": "WfzersA6lGx5"
      },
      "execution_count": null,
      "outputs": []
    }
  ]
}